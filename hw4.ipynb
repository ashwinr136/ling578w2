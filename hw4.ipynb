{
 "cells": [
  {
   "cell_type": "markdown",
   "id": "ae1c4326",
   "metadata": {
    "deletable": false,
    "editable": false,
    "nbgrader": {
     "cell_type": "markdown",
     "checksum": "6f990522a7e22b998f03e9e0693704bc",
     "grade": false,
     "grade_id": "header",
     "locked": true,
     "schema_version": 3,
     "solution": false,
     "task": false
    }
   },
   "source": [
    "<img src='https://hammondm.github.io/hltlogo1.png' style=\"float:right\">\n",
    "\n",
    "Linguistics 578<br>\n",
    "Fall 2023<br>\n",
    "Hammond\n",
    "\n",
    "## Things to remember about any homework assignment:\n",
    "\n",
    "1. For this assignment, you will edit this jupyter notebook and turn it in. Do not turn in pdf files or separate `.py` files.\n",
    "1. Late work is not accepted.\n",
    "1. Given the way I grade, you should try to answer *every* question, even if you don't like your answer or have to guess.\n",
    "1. You may *not* use `python` modules that we have not already used in class.\n",
    "1. You may certainly talk to your classmates about the assignment, but everybody must turn in *their own* work. It is not acceptable to turn in work that is essentially the same as the work of classmates.\n",
    "1. All code must run. It doesn't have to be perfect, it may not do all that you want it to do, but it must run without error.\n",
    "1. Code must run in reasonable time. Assume that if it takes more than *5 minutes* to run (on your machine), that's too long.\n",
    "1. Please do not add, remove, or copy autograded cells.\n",
    "1. Make sure to select `restart, run all cells` from the `kernel` menu when you're done and before you turn this in!"
   ]
  },
  {
   "cell_type": "markdown",
   "id": "1d5c24eb",
   "metadata": {},
   "source": [
    "***\n",
    "\n",
    "***my name***: Ashwin Raj\n",
    "\n",
    "***people I talked to about the assignment***: [put your answer here]\n",
    "\n",
    "***"
   ]
  },
  {
   "cell_type": "markdown",
   "id": "c36846fc",
   "metadata": {
    "deletable": false,
    "editable": false,
    "nbgrader": {
     "cell_type": "markdown",
     "checksum": "6d6962369f39a2043feb71785913a5b4",
     "grade": false,
     "grade_id": "intro",
     "locked": true,
     "schema_version": 3,
     "solution": false,
     "task": false
    }
   },
   "source": [
    "## Homework #4\n",
    "\n",
    "Here are the imports. Please do not import anything else."
   ]
  },
  {
   "cell_type": "code",
   "execution_count": 1,
   "id": "5fee7256",
   "metadata": {
    "deletable": false,
    "editable": false,
    "nbgrader": {
     "cell_type": "code",
     "checksum": "26564d41bbf484fe161c108e07218956",
     "grade": false,
     "grade_id": "imports",
     "locked": true,
     "schema_version": 3,
     "solution": false,
     "task": false
    }
   },
   "outputs": [],
   "source": [
    "import graphviz,re\n",
    "import pywrapfst as fst\n",
    "import numpy as np"
   ]
  },
  {
   "cell_type": "markdown",
   "id": "c421c28a",
   "metadata": {
    "deletable": false,
    "editable": false,
    "nbgrader": {
     "cell_type": "markdown",
     "checksum": "98bb0821d1f9966f04aca696616a1e72",
     "grade": false,
     "grade_id": "qttext",
     "locked": true,
     "schema_version": 3,
     "solution": false,
     "task": false
    }
   },
   "source": [
    "1. Using `pywrapfst`, create a symbol table for the (lowercase) English alphabet plus $\\epsilon$ and `#`. (The second symbol added should be `#`.)"
   ]
  },
  {
   "cell_type": "code",
   "execution_count": 2,
   "id": "d14640be",
   "metadata": {
    "deletable": false,
    "nbgrader": {
     "cell_type": "code",
     "checksum": "1080b05dee2996dd3471b927df86bb56",
     "grade": false,
     "grade_id": "q1a",
     "locked": false,
     "schema_version": 3,
     "solution": true,
     "task": false
    }
   },
   "outputs": [],
   "source": [
    "st = fst.SymbolTable()\n",
    "eng = \"abcdefghijklmnopqrstuvwxyz\"\n",
    "letters = []\n",
    "letters.append(\"<epsilon>\")\n",
    "letters.append(\"#\")\n",
    "for char in eng:\n",
    "    letters.append(char)\n",
    "for letter in letters:\n",
    "    st.add_symbol(letter)"
   ]
  },
  {
   "cell_type": "code",
   "execution_count": 3,
   "id": "b95f3d2d",
   "metadata": {
    "deletable": false,
    "editable": false,
    "nbgrader": {
     "cell_type": "code",
     "checksum": "40ae8db77e266c7427c5217fc19140c7",
     "grade": true,
     "grade_id": "q1t1",
     "locked": true,
     "points": 1,
     "schema_version": 3,
     "solution": false,
     "task": false
    }
   },
   "outputs": [],
   "source": [
    "assert st.num_symbols() == 28"
   ]
  },
  {
   "cell_type": "code",
   "execution_count": 4,
   "id": "fa0af619",
   "metadata": {
    "deletable": false,
    "editable": false,
    "nbgrader": {
     "cell_type": "code",
     "checksum": "03538e65c5eabba6dc3a32582ec56a24",
     "grade": true,
     "grade_id": "q1t2",
     "locked": true,
     "points": 1,
     "schema_version": 3,
     "solution": false,
     "task": false
    }
   },
   "outputs": [],
   "source": [
    "assert st.find(0) == '<epsilon>'"
   ]
  },
  {
   "cell_type": "code",
   "execution_count": 5,
   "id": "e6d3a9dc",
   "metadata": {
    "deletable": false,
    "editable": false,
    "nbgrader": {
     "cell_type": "code",
     "checksum": "c35c005107c7b68d3e46f14887f63024",
     "grade": true,
     "grade_id": "q1t3",
     "locked": true,
     "points": 1,
     "schema_version": 3,
     "solution": false,
     "task": false
    }
   },
   "outputs": [],
   "source": [
    "assert st.find(1) == '#'"
   ]
  },
  {
   "cell_type": "markdown",
   "id": "309decc3",
   "metadata": {
    "deletable": false,
    "editable": false,
    "nbgrader": {
     "cell_type": "markdown",
     "checksum": "6254d7364f974461e2cce9ae799c7d16",
     "grade": false,
     "grade_id": "q2text",
     "locked": true,
     "schema_version": 3,
     "solution": false,
     "task": false
    }
   },
   "source": [
    "2. We'll now build a character *bigram model* based on the *Alice in Wonderland* text. The following function should strip the Gutenberg information at the beginning and end of the file, convert everything to lowercase, convert everything except lowercase letters to space, and return a list of lowercase words."
   ]
  },
  {
   "cell_type": "code",
   "execution_count": 6,
   "id": "bd3876b7",
   "metadata": {
    "deletable": false,
    "nbgrader": {
     "cell_type": "code",
     "checksum": "e410fa4edb0ffcf76860685c0e6719d4",
     "grade": false,
     "grade_id": "q2a",
     "locked": false,
     "schema_version": 3,
     "solution": true,
     "task": false
    }
   },
   "outputs": [],
   "source": [
    "def getwords(alice):\n",
    "    '''tokenizes the Alice text\n",
    "    args:\n",
    "        alice: the location of the Gutenberg alice file\n",
    "    returns\n",
    "        a list of lowercase words\n",
    "    '''\n",
    "    # YOUR CODE HERE\n",
    "    f = open(alice,'r')\n",
    "    t = f.read()\n",
    "    f.close()\n",
    "    t = t[1435:]\n",
    "    t = t[:-18590]\n",
    "    t = t.lower()\n",
    "    #print(t[:40])\n",
    "    #t = t.strip()\n",
    "    t = re.sub(r\"[^a-z]+\",\" \",t)\n",
    "    #t = t.replace(\"\\n\",'')\n",
    "    #t = re.split(\" \",t)\n",
    "    words = t.split()\n",
    "    #print(words[:12])\n",
    "    return words"
   ]
  },
  {
   "cell_type": "code",
   "execution_count": 7,
   "id": "909bc030",
   "metadata": {
    "deletable": false,
    "editable": false,
    "nbgrader": {
     "cell_type": "code",
     "checksum": "b82cbbdeba52895561375de9ff0d8e16",
     "grade": true,
     "grade_id": "q2t1",
     "locked": true,
     "points": 1,
     "schema_version": 3,
     "solution": false,
     "task": false
    }
   },
   "outputs": [],
   "source": [
    "words = getwords('alice.txt')\n",
    "assert words[:12] == [\n",
    "    'chapter', 'i', 'down', 'the', 'rabbit', 'hole',\n",
    "    'alice', 'was', 'beginning', 'to', 'get', 'very'\n",
    "]"
   ]
  },
  {
   "cell_type": "code",
   "execution_count": 8,
   "id": "fce86dd6",
   "metadata": {
    "deletable": false,
    "editable": false,
    "nbgrader": {
     "cell_type": "code",
     "checksum": "7247c064c1bf3dfe6a9312e99c0533b0",
     "grade": true,
     "grade_id": "q2t2",
     "locked": true,
     "points": 1,
     "schema_version": 3,
     "solution": false,
     "task": false
    }
   },
   "outputs": [],
   "source": [
    "assert words[-5:] == ['happy', 'summer', 'days', 'the', 'end']"
   ]
  },
  {
   "cell_type": "code",
   "execution_count": 9,
   "id": "cc75513e",
   "metadata": {
    "deletable": false,
    "editable": false,
    "nbgrader": {
     "cell_type": "code",
     "checksum": "ec360c58f9f27f8ffa16afc32eb345e2",
     "grade": true,
     "grade_id": "q2t3",
     "locked": true,
     "points": 1,
     "schema_version": 3,
     "solution": false,
     "task": false
    }
   },
   "outputs": [],
   "source": [
    "assert len(words) == 27336"
   ]
  },
  {
   "cell_type": "markdown",
   "id": "6be4a7d0",
   "metadata": {
    "deletable": false,
    "editable": false,
    "nbgrader": {
     "cell_type": "markdown",
     "checksum": "d10417ed2b116e370afd03371720827f",
     "grade": false,
     "grade_id": "q3text",
     "locked": true,
     "schema_version": 3,
     "solution": false,
     "task": false
    }
   },
   "source": [
    "3. We now write a function that will return a list of counts for letter unigrams and letter bigrams. You'll need to pad each word with `#` on each side before doing this."
   ]
  },
  {
   "cell_type": "code",
   "execution_count": 10,
   "id": "4f742e8c",
   "metadata": {
    "deletable": false,
    "nbgrader": {
     "cell_type": "code",
     "checksum": "58f5b777cf2268bfaab603dc29015c85",
     "grade": false,
     "grade_id": "q3a",
     "locked": false,
     "schema_version": 3,
     "solution": true,
     "task": false
    }
   },
   "outputs": [],
   "source": [
    "def getcounts(wds):\n",
    "    '''get letter unigram and bigram counts from a list of words\n",
    "    args:\n",
    "        words: a list of words\n",
    "    returns\n",
    "        unigrams: a dictionary from letters to counts\n",
    "        bigrams: a dictionary from letter pairs to counts\n",
    "    '''\n",
    "    # YOUR CODE HERE\n",
    "    unigrams = {}\n",
    "    bigrams = {}\n",
    "    new_words = [\"#\" + word + \"#\" for word in wds]\n",
    "    for word in new_words:\n",
    "        for char in word:\n",
    "            if char not in unigrams:\n",
    "                unigrams[char] = 1\n",
    "            else:\n",
    "                unigrams[char]+=1\n",
    "    for word in new_words:\n",
    "        for i in range(len(word)-1):\n",
    "            bigram = word[i] + word[i+1]\n",
    "            if bigram not in bigrams:\n",
    "                bigrams[bigram] = 1\n",
    "            else:\n",
    "                bigrams[bigram]+=1\n",
    "                \n",
    "    return unigrams,bigrams\n",
    "    \n"
   ]
  },
  {
   "cell_type": "code",
   "execution_count": 11,
   "id": "bb650b05",
   "metadata": {
    "deletable": false,
    "editable": false,
    "nbgrader": {
     "cell_type": "code",
     "checksum": "4c42bc5f16b71a6151550399f3811046",
     "grade": true,
     "grade_id": "q3t1",
     "locked": true,
     "points": 1,
     "schema_version": 3,
     "solution": false,
     "task": false
    }
   },
   "outputs": [],
   "source": [
    "ugs,bgs = getcounts(words)\n",
    "assert len(ugs) == 27"
   ]
  },
  {
   "cell_type": "code",
   "execution_count": 12,
   "id": "95abe719",
   "metadata": {
    "deletable": false,
    "editable": false,
    "nbgrader": {
     "cell_type": "code",
     "checksum": "d4aa7b2d4f1f3d5b72b3ecbb7acd9b65",
     "grade": true,
     "grade_id": "q3t2",
     "locked": true,
     "points": 1,
     "schema_version": 3,
     "solution": false,
     "task": false
    }
   },
   "outputs": [],
   "source": [
    "assert len(bgs) == 427"
   ]
  },
  {
   "cell_type": "code",
   "execution_count": 13,
   "id": "8a1ba7d4",
   "metadata": {
    "deletable": false,
    "editable": false,
    "nbgrader": {
     "cell_type": "code",
     "checksum": "6d13bf24a5f3df9fba871fbf64d62352",
     "grade": true,
     "grade_id": "q3t3",
     "locked": true,
     "points": 1,
     "schema_version": 3,
     "solution": false,
     "task": false
    }
   },
   "outputs": [],
   "source": [
    "assert bgs['ab'] == 214"
   ]
  },
  {
   "cell_type": "code",
   "execution_count": 14,
   "id": "9f00d1f4",
   "metadata": {
    "deletable": false,
    "editable": false,
    "nbgrader": {
     "cell_type": "code",
     "checksum": "adf1d594cf24e3c1180453087a8773f4",
     "grade": true,
     "grade_id": "q3t4",
     "locked": true,
     "points": 1,
     "schema_version": 3,
     "solution": false,
     "task": false
    }
   },
   "outputs": [],
   "source": [
    "assert ugs['#'] == 54672"
   ]
  },
  {
   "cell_type": "code",
   "execution_count": 15,
   "id": "a16adac8",
   "metadata": {
    "deletable": false,
    "editable": false,
    "nbgrader": {
     "cell_type": "code",
     "checksum": "e94cb7fcac1d35201e62b1ab1466c229",
     "grade": true,
     "grade_id": "q3t5",
     "locked": true,
     "points": 1,
     "schema_version": 3,
     "solution": false,
     "task": false
    }
   },
   "outputs": [],
   "source": [
    "assert ugs['q'] == 209"
   ]
  },
  {
   "cell_type": "markdown",
   "id": "6f8fc146",
   "metadata": {
    "deletable": false,
    "editable": false,
    "nbgrader": {
     "cell_type": "markdown",
     "checksum": "1bb08f2e90a209a2da73e509b1e3d190",
     "grade": false,
     "grade_id": "q4text",
     "locked": true,
     "schema_version": 3,
     "solution": false,
     "task": false
    }
   },
   "source": [
    "4. Let's now write a function that takes our unigram and bigram counts and creates a dictionary of log conditional probabilities."
   ]
  },
  {
   "cell_type": "code",
   "execution_count": 32,
   "id": "0c08946e",
   "metadata": {
    "deletable": false,
    "nbgrader": {
     "cell_type": "code",
     "checksum": "034e32e2abedb903bad1f1be2a8daedd",
     "grade": false,
     "grade_id": "q4a",
     "locked": false,
     "schema_version": 3,
     "solution": true,
     "task": false
    }
   },
   "outputs": [
    {
     "name": "stdout",
     "output_type": "stream",
     "text": [
      "<SymbolTable '<unspecified>' at 0x7fd9d4544fd0>\n",
      "{'#c': -4.093466984280742, 'ch': -1.6723083764709745, 'ha': -1.8609460640786497, 'ap': -4.389794551275357, 'pt': -3.3217605510141204, 'te': -2.655377676760762, 'er': -2.008549362353763, 'r#': -1.2669384038976261, '#i': -3.313719695501101, 'i#': -2.6083663961840644, '#d': -4.148692283271645, 'do': -2.4340599742998528, 'ow': -2.7150755581539268, 'wn': -2.956856824531197, 'n#': -1.237825166400289, '#t': -2.457626326304217, 'th': -1.1225706336106682, 'he': -0.6686364778585315, 'e#': -0.8414935018554685, '#r': -4.6287111353948776, 'ra': -3.0133661411550605, 'ab': -3.7151664184826494, 'bb': -3.1074362631339922, 'bi': -2.5966106393680017, 'it': -1.7345566592860768, 't#': -1.1396799388855952, '#h': -3.5369889460172863, 'ho': -2.5584619715520103, 'ol': -3.8988456551623436, 'le': -1.8655571182348962, '#a': -2.7775762637508206, 'al': -2.2481107007183003, 'li': -1.7072996564549847, 'ic': -2.5318072843137975, 'ce': -1.2247776030772974, '#w': -3.372743035950562, 'wa': -1.5214297748336614, 'as': -2.2798593990328806, 's#': -1.063388331251762, '#b': -3.9825299411323485, 'be': -1.0355993208393757, 'eg': -4.711669397348115, 'gi': -3.429650513280871, 'in': -1.3103994181657599, 'nn': -4.94306997460049, 'ni': -3.792497947001669, 'ng': -1.8163094386400946, 'g#': -0.8951797054767496, 'to': -2.370028549876343, 'o#': -1.8088539025873551, '#g': -4.549533105682696, 'ge': -2.1838805802764734, 'et': -3.75678866820409, '#v': -5.263660076711835, 've': -0.19255121659664995, 'ry': -2.6898181555147826, 'y#': -0.43439413522489806, 'ti': -3.1325976943992506, 'ir': -3.5577483826845477, 're': -1.555709682425939, 'ed': -2.6783576273957794, 'd#': -0.4194656433726337, '#o': -3.6222305626043734, 'of': -2.576685856378328, 'f#': -0.8639355015402269, '#s': -2.9926641142328134, 'si': -3.2420693308758124, 'tt': -3.4626527966998304, 'by': -2.9796028916241073, 'is': -2.5658821311983, 'st': -2.385812843943717, 'on': -2.0453926169289485, 'ba': -2.9150643704865358, 'an': -1.7002633979403845, 'nk': -4.1637450977994925, 'k#': -1.0986122886681098, 'nd': -1.709108512314248, 'av': -3.9571784541012422, 'vi': -2.644992065135073, '#n': -4.537495127123217, 'no': -2.5598269785889896, 'ot': -2.9621582953805428, 'hi': -2.246557261524383, 'nc': -3.684608984990484, 'or': -2.491561018150617, 'tw': -4.932977906671213, 'wi': -1.9859689096073183, 'sh': -2.0318170710650327, 'ad': -2.992097558057655, '#p': -4.672737384151369, 'pe': -1.676604555977941, 'ee': -3.3398231719756097, 'ep': -4.574048019472066, 'nt': -2.7326001705142495, 'bo': -1.9838850261186305, 'oo': -2.908966566630699, 'ok': -3.667253049361606, 'ea': -2.87712265291485, 'di': -3.0775355450625606, 'bu': -1.9838850261186305, 'ut': -1.7720417279724168, 'pi': -2.477063472326974, 'ct': -3.4774908660311703, 'tu': -4.0350363134652545, 'ur': -1.9398678345993507, 'es': -3.1683012324253603, 'co': -1.949673481951823, 'nv': -5.910654000862196, 'rs': -2.768732322271793, 'sa': -2.299359035967696, 'at': -2.0215248052131174, 'io': -3.776229920892946, 'ns': -3.987558529573053, 'wh': -1.6608493100834065, '#u': -5.321858315954823, 'us': -2.1054625975879917, 'se': -2.1137198801119403, 'a#': -2.535792773170081, 'ou': -1.6555603044495895, 'ug': -3.00297343481055, 'gh': -2.0965768483658898, 'ht': -3.4897507790036, 'so': -2.7391488866169347, 'id': -2.389935559773056, 'de': -2.4089157924988274, 'ri': -2.7284970100798938, '#m': -4.041132565384781, 'mi': -2.515797136807339, 'we': -2.042005977715029, 'el': -3.4357572469857804, 'll': -1.9351380520734023, 'l#': -1.9351380520734023, 'ul': -2.3513752571634776, 'ld': -2.6460898572668543, '#f': -4.286370650405233, 'fo': -1.8294613364120664, 'da': -4.253990320494604, 'ay': -3.532066348609281, 'ma': -1.9280104719052196, 'fe': -2.5969561535966235, 'sl': -4.574710978503383, 'py': -4.6210435351443815, 'up': -2.803360380906535, 'pl': -2.1643077623230775, 'su': -3.7104993956741175, 'ak': -4.2528286962022, 'ki': -1.7025915246568741, 'ai': -2.508859890810493, 'sy': -6.987644128666294, 'wo': -2.2929087986635137, 'rt': -3.1116770733986234, 'h#': -2.4015630076713745, 'tr': -4.246345407132462, 'ro': -2.7541760244975855, 'ub': -4.749270529961848, 'bl': -2.633651911048351, 'p#': -1.9725074615745792, 'ck': -2.605406226661511, 'ie': -3.6714509696597695, 'en': -2.676214003852528, 'ud': -4.2186422788996785, 'dd': -4.375351177498872, 'nl': -4.389184861374052, 'ly': -2.3795886068945205, '#e': -4.93275606505714, 'ey': -4.154398276371945, 'ye': -3.149293678172683, 'cl': -3.5919012172089144, 'lo': -2.682679304699146, 'os': -4.200770084329668, 'em': -3.982300953353851, 'ar': -2.5243640773464584, 'rk': -4.5230773556495905, 'ka': -4.975008116453105, 'mu': -2.8313140082525634, 'uc': -3.0088043551213435, 'ts': -4.21418829549793, 'lf': -3.4804971078229805, 'oh': -5.198128639292605, '#l': -4.215783306085124, 'la': -2.7303831026563574, 'ov': -4.5504438328094166, 'af': -4.938007707112968, 'ft': -3.2968373663379125, 'rw': -6.521173257875474, 'rd': -3.4244650669814805, 'ds': -4.059834306053647, 'oc': -4.440442937595089, 'cc': -5.0089672369955585, 'cu': -3.146826971005704, 'rr': -4.146267503301802, 'im': -3.52104701583412, 'me': -1.2885674703171353, '#q': -5.683360300641872, 'qu': -0.004796172263493055, 'ui': -3.7560187569515646, 'na': -4.366456610296496, 'ac': -4.024896628156193, 'ua': -5.260096153727839, 'tc': -5.515583212831334, 'oa': -6.171577785006709, 'po': -2.1643077623230775, 'ke': -1.1572957904962, 'hu': -4.880499490472872, 'ta': -3.7714517925925337, 'fl': -4.074541934925921, 'cr': -3.09942473211112, 'ss': -3.569917445052928, 'ne': -2.5361248662822016, 'ev': -4.253000253176485, 'ef': -5.2390243230653155, 'ei': -4.972395659811367, 'rn': -4.146267503301802, 'ty': -5.269450143292426, 'fi': -2.488914671185539, 'un': -2.649209701079277, '#j': -6.105085929621816, 'ju': -0.35863380842406534, 'op': -4.370062140833288, 'rg': -4.457480073163778, 'dg': -5.068498358058817, 'mo': -1.902202587949347, 'om': -3.3523019487942736, 'w#': -2.0024527993290073, 'rl': -4.79395230978499, 'ag': -4.005968618270674, 'ga': -2.4564724070046644, 'ig': -3.5813901457415884, 'ik': -4.3490134192030165, 'ip': -6.090511053650183, 'pp': -2.592895287852096, 'fa': -2.9187712324178627, 'wl': -4.4573435531767425, 'go': -2.548102729850589, 'oi': -4.209000583466183, 'ex': -4.871299542939998, 'xt': -1.3596261140377293, 'ny': -4.389184861374052, 'yt': -4.197644132059904, 'il': -3.183931485527165, 'pb': -6.635946555686647, 'lv': -5.972324200455555, 'aw': -4.76365431996819, 'ps': -3.8951065317614453, 'gs': -3.709235375500033, 'ja': -3.1918471524802814, 'fr': -3.158251203051766, 'm#': -1.8197130965740835, 'pa': -2.584161607883342, 'rm': -4.283126686018999, 'gr': -2.518249766700908, 'tm': -6.3864115706287325, 'mp': -3.3475304806534307, 'dr': -4.03657744388938, '#k': -5.336952942177309, 'eb': -7.03078379229337, 'od': -4.4198236503923525, 'dy': -4.695823072773643, 'pu': -3.094987231649332, 'um': -4.258647613513377, 'mb': -3.540721709684289, 'br': -3.2195535612546986, 'hy': -5.12166154728976, 'dn': -4.5512418439625355, 'if': -3.8485505824725728, 'ff': -2.8134107167600364, 'ru': -4.218588164881429, 'ue': -3.0628715763916197, 'ew': -5.731500808163109, '#y': -4.5919422876077896, 'yo': -1.5154146305794371, 'u#': -2.122189391393305, 'sc': -5.345416393409203, 'lr': -7.070936489123664, 'kn': -2.127195972975736, 'pr': -2.8631856175920074, 'tl': -3.652765822337558, 'hr': -4.499131933943767, 'fu': -3.036554268074246, 'am': -3.8716562806630797, 'eo': -6.183485931906167, 'lk': -4.379693406337835, 'nw': -7.2456550675945355, 'gl': -3.7420251983230237, 'sk': -4.92925599618429, '#z': -10.215959793795127, 'ze': -0.9227216222044455, 'au': -4.7504090932181695, 'ia': -5.457988494906673, 'sp': -4.348586799051035, 'cy': -5.702114417555504, 'yi': -3.81198165124792, 'gn': -5.351463110757123, 'rh': -5.65617582038887, 'wr': -4.425594854862162, 'ls': -4.696030734549992, 'ah': -5.8622666086363004, 'ca': -2.048214682337594, 'my': -3.432087868681494, 'sw': -5.3782062162321935, 'lt': -4.586029839335664, 'oz': -8.311643948502978, 'zi': -2.0541237336955462, 'gu': -4.052180126626863, 'ks': -4.1640779002367765, 'eh': -6.049954539281645, 'dl': -4.391611698370652, 'gg': -5.003156416488908, 'xc': -2.4322629163025784, 'sm': -5.5605277730261475, 'ec': -4.663660178161754, 'ib': -6.284667068091141, 'np': -8.161945799468691, 'lm': -6.3777893085637185, 'ix': -6.726499820370179, 'xe': -1.8191584434161694, 'vo': -2.5962019009656414, 'iz': -5.665627859684918, 'nu': -4.8661089334643615, 'rv': -6.654704650499997, 'og': -5.3938732164187, 'ci': -4.380358577573184, 'b#': -5.687653092726317, 'rp': -4.3665082949580505, 'dv': -5.669272218487747, 'ox': -6.606895856264554, 'x#': -2.2891620726619046, 'oq': -6.606895856264554, 'nx': -6.02187963597242, 'xi': -1.8617180578349652, 'xp': -1.8617180578349652, 'du': -4.408141000321863, 'mm': -4.94354537275539, 'ii': -6.977814248651087, 'oe': -5.154643527352866, 'ys': -4.113086744031841, 'iv': -4.829379835484299, 'sq': -6.987644128666294, 'q#': -5.342334251964812, 'ms': -4.4327197489894, 'va': -3.7948976481907333, 'lp': -5.972324200455555, 'ku': -7.054449658132941, 'uz': -5.511410582008745, 'zz': -1.717651497074333, 'zl': -1.717651497074333, 'sn': -4.772070412661878, 'ws': -4.895598484107897, 'fy': -6.214608098422191, 'ph': -3.2182198720732806, 'rf': -6.521173257875474, 'lc': -8.457230850243553, 'ky': -4.857225080796722, 'oy': -6.606895856264554, 'lw': -5.749180649141344, 'lu': -5.749180649141344, 'nq': -7.063333510800581, 'az': -7.471704521070401, 'bj': -5.351180856105104, 'je': -1.9878743481543455, 'vu': -6.739336627357174, 'lg': -8.457230850243553, 'wf': -6.281892845227788, 'wd': -5.588745664667843, 'mf': -5.349010480863555, 'bm': -7.297091005160418, 'dw': -7.4038732738758535, 'rc': -4.611630752991036, 'c#': -5.584331381899121, 'hb': -7.5195568200881295, 'rb': -8.60061479955531, 'mn': -4.94354537275539, 'dj': -8.502485562543962, 'jo': -2.1503932776521206, 'xa': -2.512305623976115, 'yb': -5.42141956368202, 'nf': -5.910654000862196, 'bs': -3.9648864949852136, 'hl': -7.5195568200881295, 'ob': -5.367204969336539, 'gp': -7.836369760545124, 'v#': -6.046189446797229, 'lb': -7.070936489123664, 'nh': -8.161945799468691, 'ek': -6.876633112466112, 'bt': -5.217649463480582, 'za': -2.4107986776342782, 'ax': -7.69484807238461, 'eu': -9.51569044208137, 'yl': -7.724004656676065, 'uo': -7.051855622955895, 'uf': -6.541029999189903, 'nj': -7.756480691360526, 'gt': -7.143222579985179, 'ya': -5.64456311499623, 'tf': -6.878888055726526, 'gz': -7.836369760545124, 'bd': -7.297091005160418, 'hf': -8.905851181208021, 'kl': -3.9634072047746245, 'ao': -7.9825301448363915, 'ez': -6.876633112466112, 'df': -6.199900469549918, 'zy': -3.6635616461296463, 'iu': -8.230577217146454, 'hn': -7.807238892539911, 'sg': -8.77940359789435, 'aj': -6.596235783716501, 'nr': -8.161945799468691, 'gy': -7.836369760545124, 'hd': -8.905851181208021, 'yp': -3.7166714714435947, 'hj': -8.905851181208021, 'jc': -4.983606621708336, 'kr': -7.054449658132941, 'vy': -5.640724338689064, 'ml': -7.6515955738576, 'yn': -7.724004656676065, 'hm': -7.296413268773921, 'cs': -7.78155595923534, '#x': -9.810494685686963, 'tn': -6.791876678736896, 'hs': -7.5195568200881295, 'yw': -6.625392368007956, 'ym': -6.3377102955561755, 'db': -8.502485562543962, 'dh': -8.502485562543962}\n"
     ]
    }
   ],
   "source": [
    "def makecondprobs(unigrams,bigrams):\n",
    "    '''calculate conditional probabilities\n",
    "    args:\n",
    "        unigrams: dictionary of unigram counts\n",
    "        bigrams: dictionary of bigram counts\n",
    "    returns:\n",
    "        a dictionary of log conditional probabilities\n",
    "    '''\n",
    "    # YOUR CODE HERE\n",
    "    conditional_probs = {}\n",
    "    for bigram, bigram_count in bigrams.items():\n",
    "        unigram1, unigram2 = bigram[0], bigram[1] \n",
    "        if unigram1 in unigrams:\n",
    "            unigram1_count = unigrams[unigram1]\n",
    "        else:\n",
    "            unigram1_count = 0\n",
    "        numerator = bigram_count\n",
    "        denominator = unigram1_count\n",
    "        prob = (numerator) / (denominator)\n",
    "        log_prob = np.log(prob)\n",
    "        conditional_probs[bigram] = log_prob\n",
    "\n",
    "    return conditional_probs\n",
    "print(st)\n",
    "print(cp)"
   ]
  },
  {
   "cell_type": "code",
   "execution_count": 33,
   "id": "db9a1bed",
   "metadata": {
    "deletable": false,
    "editable": false,
    "nbgrader": {
     "cell_type": "code",
     "checksum": "5086532a46620247a0524779b5727c6a",
     "grade": true,
     "grade_id": "q4t1",
     "locked": true,
     "points": 1,
     "schema_version": 3,
     "solution": false,
     "task": false
    }
   },
   "outputs": [],
   "source": [
    "cp = makecondprobs(ugs,bgs)\n",
    "assert len(cp) == 427"
   ]
  },
  {
   "cell_type": "code",
   "execution_count": 18,
   "id": "4dc7a592",
   "metadata": {
    "deletable": false,
    "editable": false,
    "nbgrader": {
     "cell_type": "code",
     "checksum": "a1ec973afc39470f74b770e898ae778f",
     "grade": true,
     "grade_id": "q4t2",
     "locked": true,
     "points": 1,
     "schema_version": 3,
     "solution": false,
     "task": false
    }
   },
   "outputs": [],
   "source": [
    "assert np.isclose(cp['ab'],-3.71,atol=.01)"
   ]
  },
  {
   "cell_type": "code",
   "execution_count": 19,
   "id": "7e7b9f1f",
   "metadata": {
    "deletable": false,
    "editable": false,
    "nbgrader": {
     "cell_type": "code",
     "checksum": "3b2c06f12ef337b9f30354de4c1caa3a",
     "grade": true,
     "grade_id": "q4t3",
     "locked": true,
     "points": 1,
     "schema_version": 3,
     "solution": false,
     "task": false
    }
   },
   "outputs": [],
   "source": [
    "total = 0\n",
    "for bigram in cp:\n",
    "    if bigram[0] == 'a':\n",
    "        total += np.exp(cp[bigram])\n",
    "assert np.isclose(total,1.0,atol=.0001)"
   ]
  },
  {
   "cell_type": "markdown",
   "id": "fc566ff2",
   "metadata": {
    "deletable": false,
    "editable": false,
    "nbgrader": {
     "cell_type": "markdown",
     "checksum": "3e62c468bf44bb0aa4c4b9217cc4aa93",
     "grade": false,
     "grade_id": "q5text",
     "locked": true,
     "schema_version": 3,
     "solution": false,
     "task": false
    }
   },
   "source": [
    "5. We now create a WFSA for this model using the symbol table you created in question #1 and the dictionary we just created. The state geometry is critical here. There will be a start state, which you can think of as the `#` on the left. From there, the first arc takes you to various letter states. The probabilities of those arcs will be the conditional probabilities of the different letters based on the initial `#`. Now from each letter state you can go to any other letter state or the final `#`. In each case, the relevant probability is the conditional probability of the second letter/`#` based on the first letter. The second `#` state is the only final state. Note that there will be no arc corresponding to the first `#`."
   ]
  },
  {
   "cell_type": "code",
   "execution_count": 44,
   "id": "28fe5496",
   "metadata": {
    "deletable": false,
    "nbgrader": {
     "cell_type": "code",
     "checksum": "1d76fcd7b7f91554137037a8e0a6d73c",
     "grade": false,
     "grade_id": "q5a",
     "locked": false,
     "schema_version": 3,
     "solution": true,
     "task": false
    }
   },
   "outputs": [],
   "source": [
    "def makeWFSA(tab,dic):\n",
    "    '''create a WFSA that encodes a bigram model\n",
    "    args:\n",
    "        tab: a symbol table including all letters\n",
    "            and boundary markers\n",
    "        dic: a dictionary of the conditional probabilities\n",
    "    returns:\n",
    "        a WFSA\n",
    "    '''\n",
    "    # YOUR CODE HERE\n",
    "    \n",
    "    c1 = fst.Compiler(isymbols=tab, osymbols=tab, arc_type=\"log\",keep_isymbols=True,keep_osymbols=True)\n",
    "    #boundary_id = tab.find(\"#\")\n",
    "    \n",
    "    \n",
    "    # Define symbol IDs for boundary markers and letters\n",
    "    start_id = tab.find(\"<epsilon>\")\n",
    "    boundary_id = tab.find(\"#\")\n",
    "\n",
    "    # Set the start state\n",
    "    #c1.write(f\"0 {start_id}\\n\")\n",
    "    c1.write(f\"0 {boundary_id}\\n\")\n",
    "    #c1.write(f\"0 {start_id}\\n\")  # Skip state '1' as it's being used as a state identifier\n",
    "\n",
    "    num_symbols = tab.num_symbols()\n",
    "\n",
    "    # Add arcs from the start state to letter states with conditional probabilities\n",
    "    state_index = 3  # Start at index 3 to skip state '1'\n",
    "    for i in range(2, num_symbols):  # Start at index 2, skipping <epsilon> and #\n",
    "        letter_id = i\n",
    "        letter = tab.find(letter_id)\n",
    "        prob = dic.get(\"#\"+letter,0.0)\n",
    "        if prob > 0.0:\n",
    "            c1.write(f\"0 {state_index} {letter_id} {letter_id} {prob}\\n\")\n",
    "            state_index += 1\n",
    "\n",
    "    # Add arcs from letter states to other letter states or the final state\n",
    "    for i in range(2, num_symbols):  # Start at index 2, skipping <epsilon> and #\n",
    "        letter_id=i\n",
    "        letter = tab.find(letter_id)\n",
    "        for j in range(2, num_symbols):  # Start at index 2, skipping <epsilon> and #\n",
    "            next_letter_id = j\n",
    "            next_letter = tab.find(next_letter_id)\n",
    "            next_prob = dic.get(letter+next_letter,0.0)\n",
    "            if next_prob > 0.0:\n",
    "                c1.write(f\"{i} {i} {letter_id} {next_letter_id} {next_prob}\\n\")\n",
    "                #state_index += 1\n",
    "\n",
    "        # Add an arc to the final state\n",
    "        c1.write(f\"{i} 1 {boundary_id} {boundary_id} 0\\n\")\n",
    "        \n",
    "\n",
    "    # Compile the WFSA and create an FST object\n",
    "    #compiler.close()\n",
    "    #w = fst.Fst.read_text(compiler.stdstr())\n",
    "    w = c1.compile()\n",
    "\n",
    "    return w\n",
    "    \n",
    "    \n"
   ]
  },
  {
   "cell_type": "code",
   "execution_count": 45,
   "id": "0a57716b",
   "metadata": {
    "deletable": false,
    "editable": false,
    "nbgrader": {
     "cell_type": "code",
     "checksum": "4a3d4203d4d297d59596f9eacc3d80c4",
     "grade": true,
     "grade_id": "q5t1",
     "locked": true,
     "points": 1,
     "schema_version": 3,
     "solution": false,
     "task": false
    }
   },
   "outputs": [
    {
     "name": "stderr",
     "output_type": "stream",
     "text": [
      "LEVEL(FST_FLAGS_fst_error_fatal ? base_logging::FATAL : base_logging::ERROR): FstCompiler: Symbol \"1\" is not mapped to any integer arc ilabel, symbol table = <unspecified>, source = <pywrapfst>, line = 2\n",
      "LEVEL(FST_FLAGS_fst_error_fatal ? base_logging::FATAL : base_logging::ERROR): FstCompiler: Symbol \"1\" is not mapped to any integer arc olabel, symbol table = <unspecified>, source = <pywrapfst>, line = 2\n",
      "LEVEL(FST_FLAGS_fst_error_fatal ? base_logging::FATAL : base_logging::ERROR): FstCompiler: Symbol \"1\" is not mapped to any integer arc ilabel, symbol table = <unspecified>, source = <pywrapfst>, line = 3\n",
      "LEVEL(FST_FLAGS_fst_error_fatal ? base_logging::FATAL : base_logging::ERROR): FstCompiler: Symbol \"1\" is not mapped to any integer arc olabel, symbol table = <unspecified>, source = <pywrapfst>, line = 3\n",
      "LEVEL(FST_FLAGS_fst_error_fatal ? base_logging::FATAL : base_logging::ERROR): FstCompiler: Symbol \"1\" is not mapped to any integer arc ilabel, symbol table = <unspecified>, source = <pywrapfst>, line = 4\n",
      "LEVEL(FST_FLAGS_fst_error_fatal ? base_logging::FATAL : base_logging::ERROR): FstCompiler: Symbol \"1\" is not mapped to any integer arc olabel, symbol table = <unspecified>, source = <pywrapfst>, line = 4\n",
      "LEVEL(FST_FLAGS_fst_error_fatal ? base_logging::FATAL : base_logging::ERROR): FstCompiler: Symbol \"1\" is not mapped to any integer arc ilabel, symbol table = <unspecified>, source = <pywrapfst>, line = 5\n",
      "LEVEL(FST_FLAGS_fst_error_fatal ? base_logging::FATAL : base_logging::ERROR): FstCompiler: Symbol \"1\" is not mapped to any integer arc olabel, symbol table = <unspecified>, source = <pywrapfst>, line = 5\n",
      "LEVEL(FST_FLAGS_fst_error_fatal ? base_logging::FATAL : base_logging::ERROR): FstCompiler: Symbol \"1\" is not mapped to any integer arc ilabel, symbol table = <unspecified>, source = <pywrapfst>, line = 6\n",
      "LEVEL(FST_FLAGS_fst_error_fatal ? base_logging::FATAL : base_logging::ERROR): FstCompiler: Symbol \"1\" is not mapped to any integer arc olabel, symbol table = <unspecified>, source = <pywrapfst>, line = 6\n",
      "LEVEL(FST_FLAGS_fst_error_fatal ? base_logging::FATAL : base_logging::ERROR): FstCompiler: Symbol \"1\" is not mapped to any integer arc ilabel, symbol table = <unspecified>, source = <pywrapfst>, line = 7\n",
      "LEVEL(FST_FLAGS_fst_error_fatal ? base_logging::FATAL : base_logging::ERROR): FstCompiler: Symbol \"1\" is not mapped to any integer arc olabel, symbol table = <unspecified>, source = <pywrapfst>, line = 7\n",
      "LEVEL(FST_FLAGS_fst_error_fatal ? base_logging::FATAL : base_logging::ERROR): FstCompiler: Symbol \"1\" is not mapped to any integer arc ilabel, symbol table = <unspecified>, source = <pywrapfst>, line = 8\n",
      "LEVEL(FST_FLAGS_fst_error_fatal ? base_logging::FATAL : base_logging::ERROR): FstCompiler: Symbol \"1\" is not mapped to any integer arc olabel, symbol table = <unspecified>, source = <pywrapfst>, line = 8\n",
      "LEVEL(FST_FLAGS_fst_error_fatal ? base_logging::FATAL : base_logging::ERROR): FstCompiler: Symbol \"1\" is not mapped to any integer arc ilabel, symbol table = <unspecified>, source = <pywrapfst>, line = 9\n",
      "LEVEL(FST_FLAGS_fst_error_fatal ? base_logging::FATAL : base_logging::ERROR): FstCompiler: Symbol \"1\" is not mapped to any integer arc olabel, symbol table = <unspecified>, source = <pywrapfst>, line = 9\n",
      "LEVEL(FST_FLAGS_fst_error_fatal ? base_logging::FATAL : base_logging::ERROR): FstCompiler: Symbol \"1\" is not mapped to any integer arc ilabel, symbol table = <unspecified>, source = <pywrapfst>, line = 10\n",
      "LEVEL(FST_FLAGS_fst_error_fatal ? base_logging::FATAL : base_logging::ERROR): FstCompiler: Symbol \"1\" is not mapped to any integer arc olabel, symbol table = <unspecified>, source = <pywrapfst>, line = 10\n",
      "LEVEL(FST_FLAGS_fst_error_fatal ? base_logging::FATAL : base_logging::ERROR): FstCompiler: Symbol \"1\" is not mapped to any integer arc ilabel, symbol table = <unspecified>, source = <pywrapfst>, line = 11\n",
      "LEVEL(FST_FLAGS_fst_error_fatal ? base_logging::FATAL : base_logging::ERROR): FstCompiler: Symbol \"1\" is not mapped to any integer arc olabel, symbol table = <unspecified>, source = <pywrapfst>, line = 11\n",
      "LEVEL(FST_FLAGS_fst_error_fatal ? base_logging::FATAL : base_logging::ERROR): FstCompiler: Symbol \"1\" is not mapped to any integer arc ilabel, symbol table = <unspecified>, source = <pywrapfst>, line = 12\n",
      "LEVEL(FST_FLAGS_fst_error_fatal ? base_logging::FATAL : base_logging::ERROR): FstCompiler: Symbol \"1\" is not mapped to any integer arc olabel, symbol table = <unspecified>, source = <pywrapfst>, line = 12\n",
      "LEVEL(FST_FLAGS_fst_error_fatal ? base_logging::FATAL : base_logging::ERROR): FstCompiler: Symbol \"1\" is not mapped to any integer arc ilabel, symbol table = <unspecified>, source = <pywrapfst>, line = 13\n",
      "LEVEL(FST_FLAGS_fst_error_fatal ? base_logging::FATAL : base_logging::ERROR): FstCompiler: Symbol \"1\" is not mapped to any integer arc olabel, symbol table = <unspecified>, source = <pywrapfst>, line = 13\n",
      "LEVEL(FST_FLAGS_fst_error_fatal ? base_logging::FATAL : base_logging::ERROR): FstCompiler: Symbol \"1\" is not mapped to any integer arc ilabel, symbol table = <unspecified>, source = <pywrapfst>, line = 14\n",
      "LEVEL(FST_FLAGS_fst_error_fatal ? base_logging::FATAL : base_logging::ERROR): FstCompiler: Symbol \"1\" is not mapped to any integer arc olabel, symbol table = <unspecified>, source = <pywrapfst>, line = 14\n",
      "LEVEL(FST_FLAGS_fst_error_fatal ? base_logging::FATAL : base_logging::ERROR): FstCompiler: Symbol \"1\" is not mapped to any integer arc ilabel, symbol table = <unspecified>, source = <pywrapfst>, line = 15\n",
      "LEVEL(FST_FLAGS_fst_error_fatal ? base_logging::FATAL : base_logging::ERROR): FstCompiler: Symbol \"1\" is not mapped to any integer arc olabel, symbol table = <unspecified>, source = <pywrapfst>, line = 15\n",
      "LEVEL(FST_FLAGS_fst_error_fatal ? base_logging::FATAL : base_logging::ERROR): FstCompiler: Symbol \"1\" is not mapped to any integer arc ilabel, symbol table = <unspecified>, source = <pywrapfst>, line = 16\n",
      "LEVEL(FST_FLAGS_fst_error_fatal ? base_logging::FATAL : base_logging::ERROR): FstCompiler: Symbol \"1\" is not mapped to any integer arc olabel, symbol table = <unspecified>, source = <pywrapfst>, line = 16\n",
      "LEVEL(FST_FLAGS_fst_error_fatal ? base_logging::FATAL : base_logging::ERROR): FstCompiler: Symbol \"1\" is not mapped to any integer arc ilabel, symbol table = <unspecified>, source = <pywrapfst>, line = 17\n",
      "LEVEL(FST_FLAGS_fst_error_fatal ? base_logging::FATAL : base_logging::ERROR): FstCompiler: Symbol \"1\" is not mapped to any integer arc olabel, symbol table = <unspecified>, source = <pywrapfst>, line = 17\n",
      "LEVEL(FST_FLAGS_fst_error_fatal ? base_logging::FATAL : base_logging::ERROR): FstCompiler: Symbol \"1\" is not mapped to any integer arc ilabel, symbol table = <unspecified>, source = <pywrapfst>, line = 18\n",
      "LEVEL(FST_FLAGS_fst_error_fatal ? base_logging::FATAL : base_logging::ERROR): FstCompiler: Symbol \"1\" is not mapped to any integer arc olabel, symbol table = <unspecified>, source = <pywrapfst>, line = 18\n",
      "LEVEL(FST_FLAGS_fst_error_fatal ? base_logging::FATAL : base_logging::ERROR): FstCompiler: Symbol \"1\" is not mapped to any integer arc ilabel, symbol table = <unspecified>, source = <pywrapfst>, line = 19\n",
      "LEVEL(FST_FLAGS_fst_error_fatal ? base_logging::FATAL : base_logging::ERROR): FstCompiler: Symbol \"1\" is not mapped to any integer arc olabel, symbol table = <unspecified>, source = <pywrapfst>, line = 19\n",
      "LEVEL(FST_FLAGS_fst_error_fatal ? base_logging::FATAL : base_logging::ERROR): FstCompiler: Symbol \"1\" is not mapped to any integer arc ilabel, symbol table = <unspecified>, source = <pywrapfst>, line = 20\n",
      "LEVEL(FST_FLAGS_fst_error_fatal ? base_logging::FATAL : base_logging::ERROR): FstCompiler: Symbol \"1\" is not mapped to any integer arc olabel, symbol table = <unspecified>, source = <pywrapfst>, line = 20\n",
      "LEVEL(FST_FLAGS_fst_error_fatal ? base_logging::FATAL : base_logging::ERROR): FstCompiler: Symbol \"1\" is not mapped to any integer arc ilabel, symbol table = <unspecified>, source = <pywrapfst>, line = 21\n",
      "LEVEL(FST_FLAGS_fst_error_fatal ? base_logging::FATAL : base_logging::ERROR): FstCompiler: Symbol \"1\" is not mapped to any integer arc olabel, symbol table = <unspecified>, source = <pywrapfst>, line = 21\n",
      "LEVEL(FST_FLAGS_fst_error_fatal ? base_logging::FATAL : base_logging::ERROR): FstCompiler: Symbol \"1\" is not mapped to any integer arc ilabel, symbol table = <unspecified>, source = <pywrapfst>, line = 22\n",
      "LEVEL(FST_FLAGS_fst_error_fatal ? base_logging::FATAL : base_logging::ERROR): FstCompiler: Symbol \"1\" is not mapped to any integer arc olabel, symbol table = <unspecified>, source = <pywrapfst>, line = 22\n",
      "LEVEL(FST_FLAGS_fst_error_fatal ? base_logging::FATAL : base_logging::ERROR): FstCompiler: Symbol \"1\" is not mapped to any integer arc ilabel, symbol table = <unspecified>, source = <pywrapfst>, line = 23\n",
      "LEVEL(FST_FLAGS_fst_error_fatal ? base_logging::FATAL : base_logging::ERROR): FstCompiler: Symbol \"1\" is not mapped to any integer arc olabel, symbol table = <unspecified>, source = <pywrapfst>, line = 23\n",
      "LEVEL(FST_FLAGS_fst_error_fatal ? base_logging::FATAL : base_logging::ERROR): FstCompiler: Symbol \"1\" is not mapped to any integer arc ilabel, symbol table = <unspecified>, source = <pywrapfst>, line = 24\n",
      "LEVEL(FST_FLAGS_fst_error_fatal ? base_logging::FATAL : base_logging::ERROR): FstCompiler: Symbol \"1\" is not mapped to any integer arc olabel, symbol table = <unspecified>, source = <pywrapfst>, line = 24\n",
      "LEVEL(FST_FLAGS_fst_error_fatal ? base_logging::FATAL : base_logging::ERROR): FstCompiler: Symbol \"1\" is not mapped to any integer arc ilabel, symbol table = <unspecified>, source = <pywrapfst>, line = 25\n",
      "LEVEL(FST_FLAGS_fst_error_fatal ? base_logging::FATAL : base_logging::ERROR): FstCompiler: Symbol \"1\" is not mapped to any integer arc olabel, symbol table = <unspecified>, source = <pywrapfst>, line = 25\n",
      "LEVEL(FST_FLAGS_fst_error_fatal ? base_logging::FATAL : base_logging::ERROR): FstCompiler: Symbol \"1\" is not mapped to any integer arc ilabel, symbol table = <unspecified>, source = <pywrapfst>, line = 26\n",
      "LEVEL(FST_FLAGS_fst_error_fatal ? base_logging::FATAL : base_logging::ERROR): FstCompiler: Symbol \"1\" is not mapped to any integer arc olabel, symbol table = <unspecified>, source = <pywrapfst>, line = 26\n",
      "LEVEL(FST_FLAGS_fst_error_fatal ? base_logging::FATAL : base_logging::ERROR): FstCompiler: Symbol \"1\" is not mapped to any integer arc ilabel, symbol table = <unspecified>, source = <pywrapfst>, line = 27\n",
      "LEVEL(FST_FLAGS_fst_error_fatal ? base_logging::FATAL : base_logging::ERROR): FstCompiler: Symbol \"1\" is not mapped to any integer arc olabel, symbol table = <unspecified>, source = <pywrapfst>, line = 27\n"
     ]
    },
    {
     "ename": "FstOpError",
     "evalue": "Operation failed",
     "output_type": "error",
     "traceback": [
      "\u001b[0;31m---------------------------------------------------------------------------\u001b[0m",
      "\u001b[0;31mFstOpError\u001b[0m                                Traceback (most recent call last)",
      "Input \u001b[0;32mIn [45]\u001b[0m, in \u001b[0;36m<cell line: 1>\u001b[0;34m()\u001b[0m\n\u001b[0;32m----> 1\u001b[0m wfsa \u001b[38;5;241m=\u001b[39m \u001b[43mmakeWFSA\u001b[49m\u001b[43m(\u001b[49m\u001b[43mst\u001b[49m\u001b[43m,\u001b[49m\u001b[43mcp\u001b[49m\u001b[43m)\u001b[49m\n\u001b[1;32m      2\u001b[0m \u001b[38;5;28;01massert\u001b[39;00m \u001b[38;5;28mtype\u001b[39m(wfsa) \u001b[38;5;241m==\u001b[39m fst\u001b[38;5;241m.\u001b[39mMutableFst\n",
      "Input \u001b[0;32mIn [44]\u001b[0m, in \u001b[0;36mmakeWFSA\u001b[0;34m(tab, dic)\u001b[0m\n\u001b[1;32m     50\u001b[0m     c1\u001b[38;5;241m.\u001b[39mwrite(\u001b[38;5;124mf\u001b[39m\u001b[38;5;124m\"\u001b[39m\u001b[38;5;132;01m{\u001b[39;00mi\u001b[38;5;132;01m}\u001b[39;00m\u001b[38;5;124m 1 \u001b[39m\u001b[38;5;132;01m{\u001b[39;00mboundary_id\u001b[38;5;132;01m}\u001b[39;00m\u001b[38;5;124m \u001b[39m\u001b[38;5;132;01m{\u001b[39;00mboundary_id\u001b[38;5;132;01m}\u001b[39;00m\u001b[38;5;124m 0\u001b[39m\u001b[38;5;130;01m\\n\u001b[39;00m\u001b[38;5;124m\"\u001b[39m)\n\u001b[1;32m     53\u001b[0m \u001b[38;5;66;03m# Compile the WFSA and create an FST object\u001b[39;00m\n\u001b[1;32m     54\u001b[0m \u001b[38;5;66;03m#compiler.close()\u001b[39;00m\n\u001b[1;32m     55\u001b[0m \u001b[38;5;66;03m#w = fst.Fst.read_text(compiler.stdstr())\u001b[39;00m\n\u001b[0;32m---> 56\u001b[0m w \u001b[38;5;241m=\u001b[39m \u001b[43mc1\u001b[49m\u001b[38;5;241;43m.\u001b[39;49m\u001b[43mcompile\u001b[49m\u001b[43m(\u001b[49m\u001b[43m)\u001b[49m\n\u001b[1;32m     58\u001b[0m \u001b[38;5;28;01mreturn\u001b[39;00m w\n",
      "File \u001b[0;32mextensions/_pywrapfst.pyx:4517\u001b[0m, in \u001b[0;36m_pywrapfst.Compiler.compile\u001b[0;34m()\u001b[0m\n",
      "File \u001b[0;32mextensions/_pywrapfst.pyx:4547\u001b[0m, in \u001b[0;36m_pywrapfst.Compiler.compile\u001b[0;34m()\u001b[0m\n",
      "File \u001b[0;32mextensions/_pywrapfst.pyx:3019\u001b[0m, in \u001b[0;36m_pywrapfst._init_XFst\u001b[0;34m()\u001b[0m\n",
      "File \u001b[0;32mextensions/_pywrapfst.pyx:3008\u001b[0m, in \u001b[0;36m_pywrapfst._init_MutableFst\u001b[0;34m()\u001b[0m\n",
      "\u001b[0;31mFstOpError\u001b[0m: Operation failed"
     ]
    }
   ],
   "source": [
    "wfsa = makeWFSA(st,cp)\n",
    "assert type(wfsa) == fst.MutableFst"
   ]
  },
  {
   "cell_type": "code",
   "execution_count": null,
   "id": "54f4740d",
   "metadata": {
    "deletable": false,
    "editable": false,
    "nbgrader": {
     "cell_type": "code",
     "checksum": "2b8865f28ed0079d10e8a9e9c9f5b1e4",
     "grade": true,
     "grade_id": "q5t2",
     "locked": true,
     "points": 1,
     "schema_version": 3,
     "solution": false,
     "task": false
    }
   },
   "outputs": [],
   "source": [
    "assert wfsa.num_states() == 28"
   ]
  },
  {
   "cell_type": "code",
   "execution_count": null,
   "id": "3ee9ce27",
   "metadata": {
    "deletable": false,
    "editable": false,
    "nbgrader": {
     "cell_type": "code",
     "checksum": "75416d57fa042193552e9b0e831b90c5",
     "grade": true,
     "grade_id": "q5t3",
     "locked": true,
     "points": 1,
     "schema_version": 3,
     "solution": false,
     "task": false
    }
   },
   "outputs": [],
   "source": [
    "c2 = fst.Compiler(\n",
    "    isymbols=st,\n",
    "    osymbols=st,\n",
    "    keep_isymbols=True,\n",
    "    keep_osymbols=True,\n",
    "    arc_type='log'\n",
    ")\n",
    "c2.write('0 1 h h')\n",
    "c2.write('1 2 a a')\n",
    "c2.write('2 3 t t')\n",
    "c2.write('3 4 # #')\n",
    "c2.write('4')\n",
    "f2 = c2.compile()\n",
    "f3 = fst.compose(f2,wfsa)\n",
    "assert f3.num_states() == 5"
   ]
  },
  {
   "cell_type": "code",
   "execution_count": null,
   "id": "288365c1",
   "metadata": {
    "deletable": false,
    "editable": false,
    "nbgrader": {
     "cell_type": "code",
     "checksum": "5aa18be6792c6a239a8b7d65dbaea89d",
     "grade": true,
     "grade_id": "q5t4",
     "locked": true,
     "points": 1,
     "schema_version": 3,
     "solution": false,
     "task": false
    }
   },
   "outputs": [],
   "source": [
    "f3s = str(f3).split('\\n')[:-2]\n",
    "val = np.exp(sum([float(s.split('\\t')[-1]) for s in f3s]))\n",
    "assert np.isclose(val,0.00019,atol=.001)"
   ]
  }
 ],
 "metadata": {
  "kernelspec": {
   "display_name": "Python 3 (ipykernel)",
   "language": "python",
   "name": "python3"
  },
  "language_info": {
   "codemirror_mode": {
    "name": "ipython",
    "version": 3
   },
   "file_extension": ".py",
   "mimetype": "text/x-python",
   "name": "python",
   "nbconvert_exporter": "python",
   "pygments_lexer": "ipython3",
   "version": "3.8.10"
  }
 },
 "nbformat": 4,
 "nbformat_minor": 5
}
