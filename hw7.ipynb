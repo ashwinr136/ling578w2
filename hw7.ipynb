{
 "cells": [
  {
   "cell_type": "markdown",
   "id": "ef750694",
   "metadata": {
    "deletable": false,
    "editable": false,
    "nbgrader": {
     "cell_type": "markdown",
     "checksum": "6f990522a7e22b998f03e9e0693704bc",
     "grade": false,
     "grade_id": "header",
     "locked": true,
     "schema_version": 3,
     "solution": false,
     "task": false
    }
   },
   "source": [
    "<img src='https://hammondm.github.io/hltlogo1.png' style=\"float:right\">\n",
    "\n",
    "Linguistics 578<br>\n",
    "Fall 2023<br>\n",
    "Hammond\n",
    "\n",
    "## Things to remember about any homework assignment:\n",
    "\n",
    "1. For this assignment, you will edit this jupyter notebook and turn it in. Do not turn in pdf files or separate `.py` files.\n",
    "1. Late work is not accepted.\n",
    "1. Given the way I grade, you should try to answer *every* question, even if you don't like your answer or have to guess.\n",
    "1. You may *not* use `python` modules that we have not already used in class.\n",
    "1. You may certainly talk to your classmates about the assignment, but everybody must turn in *their own* work. It is not acceptable to turn in work that is essentially the same as the work of classmates.\n",
    "1. All code must run. It doesn't have to be perfect, it may not do all that you want it to do, but it must run without error.\n",
    "1. Code must run in reasonable time. Assume that if it takes more than *5 minutes* to run (on your machine), that's too long.\n",
    "1. Please do not add, remove, or copy autograded cells.\n",
    "1. Make sure to select `restart, run all cells` from the `kernel` menu when you're done and before you turn this in!"
   ]
  },
  {
   "cell_type": "markdown",
   "id": "724553ef",
   "metadata": {},
   "source": [
    "***\n",
    "\n",
    "***my name***: Ashwin Raj\n",
    "\n",
    "***people I talked to about the assignment***: [put your answer here]\n",
    "\n",
    "***"
   ]
  },
  {
   "cell_type": "markdown",
   "id": "b07088b1",
   "metadata": {
    "deletable": false,
    "editable": false,
    "nbgrader": {
     "cell_type": "markdown",
     "checksum": "ed9a6aa61034d3ba5cd7dbe74392bc3a",
     "grade": false,
     "grade_id": "intro",
     "locked": true,
     "schema_version": 3,
     "solution": false,
     "task": false
    }
   },
   "source": [
    "## Homework #7\n",
    "\n",
    "The focus of this assignment is *Kaldi*. You'll run the `yesno` experiment and different versions of `very` and report on those results.\n",
    "\n",
    "\n",
    "Here are the imports. Please do not import anything else."
   ]
  },
  {
   "cell_type": "code",
   "execution_count": 1,
   "id": "5fee7256",
   "metadata": {
    "deletable": false,
    "editable": false,
    "nbgrader": {
     "cell_type": "code",
     "checksum": "51f4c8163cbd2c321da41b639f20a927",
     "grade": false,
     "grade_id": "imports",
     "locked": true,
     "schema_version": 3,
     "solution": false,
     "task": false
    }
   },
   "outputs": [],
   "source": [
    "import matplotlib.pyplot as plt\n",
    "import numpy as np"
   ]
  },
  {
   "cell_type": "markdown",
   "id": "75793a58",
   "metadata": {
    "deletable": false,
    "editable": false,
    "nbgrader": {
     "cell_type": "markdown",
     "checksum": "e188a76fe07c18bc8bafcea7bf240181",
     "grade": false,
     "grade_id": "q1text",
     "locked": true,
     "schema_version": 3,
     "solution": false,
     "task": false
    }
   },
   "source": [
    "1. Switch into `egs/yesno/s5` and run the `run.sh` script. Running the script itself displays the final WER. What is that value?"
   ]
  },
  {
   "cell_type": "code",
   "execution_count": 2,
   "id": "ca20d013",
   "metadata": {
    "deletable": false,
    "nbgrader": {
     "cell_type": "code",
     "checksum": "7804e058c3e8efc97d318c64adc153c3",
     "grade": false,
     "grade_id": "q1a",
     "locked": false,
     "schema_version": 3,
     "solution": true,
     "task": false
    }
   },
   "outputs": [],
   "source": [
    "# yesnoWER = ?\n",
    "# YOUR CODE HERE\n",
    "yesnoWER = 0.00"
   ]
  },
  {
   "cell_type": "code",
   "execution_count": 3,
   "id": "8a0bfc04",
   "metadata": {
    "deletable": false,
    "editable": false,
    "nbgrader": {
     "cell_type": "code",
     "checksum": "327a1a8b133bb0d51f920179828053e2",
     "grade": true,
     "grade_id": "q1t1",
     "locked": true,
     "points": 1,
     "schema_version": 3,
     "solution": false,
     "task": false
    }
   },
   "outputs": [],
   "source": [
    "#this test is hidden!"
   ]
  },
  {
   "cell_type": "markdown",
   "id": "26777d79",
   "metadata": {
    "deletable": false,
    "editable": false,
    "nbgrader": {
     "cell_type": "markdown",
     "checksum": "7ef4689680a381fec2205757b48f4584",
     "grade": false,
     "grade_id": "q2text",
     "locked": true,
     "schema_version": 3,
     "solution": false,
     "task": false
    }
   },
   "source": [
    "2. How many files are there in `yesno/s5/exp/mono0a`?"
   ]
  },
  {
   "cell_type": "code",
   "execution_count": 4,
   "id": "19322eb7",
   "metadata": {
    "deletable": false,
    "nbgrader": {
     "cell_type": "code",
     "checksum": "dd4340671a61296bffb15042844bda46",
     "grade": false,
     "grade_id": "q2a",
     "locked": false,
     "schema_version": 3,
     "solution": true,
     "task": false
    }
   },
   "outputs": [],
   "source": [
    "# yesnomono0afiles = ?\n",
    "# YOUR CODE HERE\n",
    "\n",
    "\n",
    "yesnomono0afiles = 278 #the command I used was find . -type f | wc -l"
   ]
  },
  {
   "cell_type": "code",
   "execution_count": 5,
   "id": "3afd3fbc",
   "metadata": {
    "deletable": false,
    "editable": false,
    "nbgrader": {
     "cell_type": "code",
     "checksum": "fb76089c1b12addd4ad8b7dbde260a8e",
     "grade": true,
     "grade_id": "q2t1",
     "locked": true,
     "points": 1,
     "schema_version": 3,
     "solution": false,
     "task": false
    }
   },
   "outputs": [],
   "source": [
    "#this test is hidden!"
   ]
  },
  {
   "cell_type": "markdown",
   "id": "917dba0b",
   "metadata": {
    "deletable": false,
    "editable": false,
    "nbgrader": {
     "cell_type": "markdown",
     "checksum": "8d4232a5e1157c513f80f7d9db63e582",
     "grade": false,
     "grade_id": "q3text",
     "locked": true,
     "schema_version": 3,
     "solution": false,
     "task": false
    }
   },
   "source": [
    "3. In the same directory, execute the following command to find out about the final version of the WFST for the single segment model.\n",
    "\n",
    "```bash\n",
    "/opt/kaldi/src/gmmbin/gmm-info final.mdl\n",
    "```\n",
    "\n",
    "How many \"phones\" does that report?"
   ]
  },
  {
   "cell_type": "code",
   "execution_count": 6,
   "id": "0054b104",
   "metadata": {
    "deletable": false,
    "nbgrader": {
     "cell_type": "code",
     "checksum": "dd1e6d5a83a356dc8f0fe891be7629a8",
     "grade": false,
     "grade_id": "q3a",
     "locked": false,
     "schema_version": 3,
     "solution": true,
     "task": false
    }
   },
   "outputs": [],
   "source": [
    "# yesnomonophones = ?\n",
    "# YOUR CODE HERE\n",
    "yesnomonophones = 3"
   ]
  },
  {
   "cell_type": "code",
   "execution_count": 7,
   "id": "857ee742",
   "metadata": {
    "deletable": false,
    "editable": false,
    "nbgrader": {
     "cell_type": "code",
     "checksum": "6f275d113aea0413f387b794c2d24c07",
     "grade": true,
     "grade_id": "q3t1",
     "locked": true,
     "points": 1,
     "schema_version": 3,
     "solution": false,
     "task": false
    }
   },
   "outputs": [],
   "source": [
    "#this test is hidden!"
   ]
  },
  {
   "cell_type": "markdown",
   "id": "b0dc58e5",
   "metadata": {
    "deletable": false,
    "editable": false,
    "nbgrader": {
     "cell_type": "markdown",
     "checksum": "fe30471386295f62610c0d0e749a6a88",
     "grade": false,
     "grade_id": "q4text",
     "locked": true,
     "schema_version": 3,
     "solution": false,
     "task": false
    }
   },
   "source": [
    "4. The next command shows the states and transitions in the final model.\n",
    "\n",
    "```bash\n",
    "../../../src/bin/show-transitions \\\n",
    "  data/lang/phones.txt \\\n",
    "  exp/mono0a/final.mdl\n",
    "```\n",
    "\n",
    "How many states does this show (\"transition-state\")?"
   ]
  },
  {
   "cell_type": "code",
   "execution_count": 8,
   "id": "fc6a542b",
   "metadata": {
    "deletable": false,
    "nbgrader": {
     "cell_type": "code",
     "checksum": "50512912c1caa425fe414fd8792f3177",
     "grade": false,
     "grade_id": "q4a",
     "locked": false,
     "schema_version": 3,
     "solution": true,
     "task": false
    }
   },
   "outputs": [],
   "source": [
    "# yesnostates = ?\n",
    "# YOUR CODE HERE\n",
    "\n",
    "\n",
    "yesnostates = 11 #Running the commands given in 4. gives me an error \n",
    "                #../../../src/bin/show-transitions: No such file or directory\n",
    "                #So I used transition-state from the command in 3."
   ]
  },
  {
   "cell_type": "code",
   "execution_count": 9,
   "id": "cbe47b4c",
   "metadata": {
    "deletable": false,
    "editable": false,
    "nbgrader": {
     "cell_type": "code",
     "checksum": "ffddb2f1c3b4fc0d5f5c7ead37045c9a",
     "grade": true,
     "grade_id": "q4t1",
     "locked": true,
     "points": 1,
     "schema_version": 3,
     "solution": false,
     "task": false
    }
   },
   "outputs": [],
   "source": [
    "#this test is hidden!"
   ]
  },
  {
   "cell_type": "markdown",
   "id": "abe20110",
   "metadata": {
    "deletable": false,
    "editable": false,
    "nbgrader": {
     "cell_type": "markdown",
     "checksum": "324784e37d5856ff1f931794d5334143",
     "grade": false,
     "grade_id": "cell-bebcf86fc8dc258d",
     "locked": true,
     "schema_version": 3,
     "solution": false,
     "task": false
    }
   },
   "source": [
    "5. Now run the `very` experiment eight times with the following settings for `trainnum`: 100, 300, 500, 700, 900, 1100, 1300, 1500. For each run, collect the best WER error rate for segments in isolation (`mono`) and context-dependent segments (`tri1`). Collect the error rate for these with these commands:\n",
    "\n",
    "```bash\n",
    "grep WER exp/mono/decode/wer*\n",
    "\n",
    "grep WER exp/tri1/decode/wer*\n",
    "```\n",
    "\n",
    "enter these values into these `numpy` arrays:"
   ]
  },
  {
   "cell_type": "code",
   "execution_count": 10,
   "id": "8a2a0058",
   "metadata": {
    "deletable": false,
    "nbgrader": {
     "cell_type": "code",
     "checksum": "a66e307a5569e457eb6da0f1853007e8",
     "grade": false,
     "grade_id": "q5a",
     "locked": false,
     "schema_version": 3,
     "solution": true,
     "task": false
    }
   },
   "outputs": [],
   "source": [
    "# verymono = np.array([...])\n",
    "# verytri  = np.array([...])\n",
    "# YOUR CODE HERE\n",
    "verymono = np.array([11.30, 10.40, 7.40, 8.30, 6.10, 6.90, 5.30, 4.30])\n",
    "verytri = np.array([13.80, 8.10, 6.60, 5.10, 4.80, 5.20, 4.00, 3.00])\n"
   ]
  },
  {
   "cell_type": "code",
   "execution_count": 11,
   "id": "3ea9b1a6",
   "metadata": {
    "deletable": false,
    "editable": false,
    "nbgrader": {
     "cell_type": "code",
     "checksum": "bccde27e9da3d1c015565b8d1822b5ee",
     "grade": true,
     "grade_id": "q5t1",
     "locked": true,
     "points": 1,
     "schema_version": 3,
     "solution": false,
     "task": false
    }
   },
   "outputs": [],
   "source": [
    "assert(len(verymono) == 8 and len(verytri) == 8)"
   ]
  },
  {
   "cell_type": "code",
   "execution_count": 12,
   "id": "217995cf",
   "metadata": {
    "deletable": false,
    "editable": false,
    "nbgrader": {
     "cell_type": "code",
     "checksum": "db048c337ada6f92e5e96d52aa3d9d07",
     "grade": true,
     "grade_id": "q5t2",
     "locked": true,
     "points": 1,
     "schema_version": 3,
     "solution": false,
     "task": false
    }
   },
   "outputs": [],
   "source": [
    "assert np.isclose(sum(verymono) + sum(verytri),101,atol=10)"
   ]
  },
  {
   "cell_type": "code",
   "execution_count": 13,
   "id": "b3d21459",
   "metadata": {
    "deletable": false,
    "editable": false,
    "nbgrader": {
     "cell_type": "code",
     "checksum": "9dbfd1e8f379340c89c17ac2dabdfa43",
     "grade": true,
     "grade_id": "q5t3",
     "locked": true,
     "points": 1,
     "schema_version": 3,
     "solution": false,
     "task": false
    }
   },
   "outputs": [],
   "source": [
    "assert sum(verymono - verytri) > 2"
   ]
  },
  {
   "cell_type": "markdown",
   "id": "476beec9",
   "metadata": {
    "deletable": false,
    "editable": false,
    "nbgrader": {
     "cell_type": "markdown",
     "checksum": "f66c038f8928cc3a30ad727e9f03c67c",
     "grade": false,
     "grade_id": "plotting",
     "locked": true,
     "schema_version": 3,
     "solution": false,
     "task": false
    }
   },
   "source": [
    "You should see that the values generally decrease, though there is a fair amount of bouncing around. You should also see that the context-dependent values only get better than the single-segment values as the number of training items increases.\n",
    "\n",
    "You can plot the values below:"
   ]
  },
  {
   "cell_type": "code",
   "execution_count": 14,
   "id": "c3f0c3f3",
   "metadata": {},
   "outputs": [
    {
     "data": {
      "image/png": "[encoded data removed]",
      "text/plain": [
       "<Figure size 432x288 with 1 Axes>"
      ]
     },
     "metadata": {
      "needs_background": "light"
     },
     "output_type": "display_data"
    }
   ],
   "source": [
    "plt.plot([100,300,500,700,900,1100,1300,1500],verymono)\n",
    "plt.plot([100,300,500,700,900,1100,1300,1500],verytri)\n",
    "plt.show()"
   ]
  },
  {
   "cell_type": "code",
   "execution_count": null,
   "id": "c3ad6808",
   "metadata": {},
   "outputs": [],
   "source": []
  }
 ],
 "metadata": {
  "kernelspec": {
   "display_name": "Python 3 (ipykernel)",
   "language": "python",
   "name": "python3"
  },
  "language_info": {
   "codemirror_mode": {
    "name": "ipython",
    "version": 3
   },
   "file_extension": ".py",
   "mimetype": "text/x-python",
   "name": "python",
   "nbconvert_exporter": "python",
   "pygments_lexer": "ipython3",
   "version": "3.8.10"
  }
 },
 "nbformat": 4,
 "nbformat_minor": 5
}
