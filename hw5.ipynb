{
 "cells": [
  {
   "cell_type": "markdown",
   "id": "4fa64eb1",
   "metadata": {
    "deletable": false,
    "editable": false,
    "nbgrader": {
     "cell_type": "markdown",
     "checksum": "6f990522a7e22b998f03e9e0693704bc",
     "grade": false,
     "grade_id": "header",
     "locked": true,
     "schema_version": 3,
     "solution": false,
     "task": false
    }
   },
   "source": [
    "<img src='https://hammondm.github.io/hltlogo1.png' style=\"float:right\">\n",
    "\n",
    "Linguistics 578<br>\n",
    "Fall 2023<br>\n",
    "Hammond\n",
    "\n",
    "## Things to remember about any homework assignment:\n",
    "\n",
    "1. For this assignment, you will edit this jupyter notebook and turn it in. Do not turn in pdf files or separate `.py` files.\n",
    "1. Late work is not accepted.\n",
    "1. Given the way I grade, you should try to answer *every* question, even if you don't like your answer or have to guess.\n",
    "1. You may *not* use `python` modules that we have not already used in class.\n",
    "1. You may certainly talk to your classmates about the assignment, but everybody must turn in *their own* work. It is not acceptable to turn in work that is essentially the same as the work of classmates.\n",
    "1. All code must run. It doesn't have to be perfect, it may not do all that you want it to do, but it must run without error.\n",
    "1. Code must run in reasonable time. Assume that if it takes more than *5 minutes* to run (on your machine), that's too long.\n",
    "1. Please do not add, remove, or copy autograded cells.\n",
    "1. Make sure to select `restart, run all cells` from the `kernel` menu when you're done and before you turn this in!"
   ]
  },
  {
   "cell_type": "markdown",
   "id": "597d43c4",
   "metadata": {},
   "source": [
    "***\n",
    "\n",
    "***my name***: [put your name here]\n",
    "\n",
    "***people I talked to about the assignment***: [put your answer here]\n",
    "\n",
    "***"
   ]
  },
  {
   "cell_type": "markdown",
   "id": "c36846fc",
   "metadata": {
    "deletable": false,
    "editable": false,
    "nbgrader": {
     "cell_type": "markdown",
     "checksum": "ce38d83169fbfd5fc228f3d637ec2fa4",
     "grade": false,
     "grade_id": "intro",
     "locked": true,
     "schema_version": 3,
     "solution": false,
     "task": false
    }
   },
   "source": [
    "## Homework #5\n",
    "\n",
    "Here are the imports. Please do not import anything else."
   ]
  },
  {
   "cell_type": "code",
   "execution_count": null,
   "id": "5fee7256",
   "metadata": {
    "deletable": false,
    "editable": false,
    "nbgrader": {
     "cell_type": "code",
     "checksum": "ec6514f3c4c5b39f6d6913e07e80a5b0",
     "grade": false,
     "grade_id": "imports",
     "locked": true,
     "schema_version": 3,
     "solution": false,
     "task": false
    }
   },
   "outputs": [],
   "source": [
    "import numpy as np"
   ]
  },
  {
   "cell_type": "markdown",
   "id": "c421c28a",
   "metadata": {
    "deletable": false,
    "editable": false,
    "nbgrader": {
     "cell_type": "markdown",
     "checksum": "b0ebe2a009cbae126616d03e3af4809a",
     "grade": false,
     "grade_id": "qttext",
     "locked": true,
     "schema_version": 3,
     "solution": false,
     "task": false
    }
   },
   "source": [
    "1. The book includes an implementation of HMMs, but let's do a different implementation here. The one here will be quite spare. We have a class that holds a vector for $\\pi$, a transition matrix, an emission matrix, and symbol lookup tables. The bare bones for these are given below. Fill in the `check()` method that checks that these are well structured and work together properly. (Keep in mind that that this has to run on other machines where there may be miniscule differences in floating point values.)"
   ]
  },
  {
   "cell_type": "code",
   "execution_count": null,
   "id": "19b2ed97",
   "metadata": {
    "deletable": false,
    "nbgrader": {
     "cell_type": "code",
     "checksum": "a45e67d0bb815c9398c6b19f94f6db3e",
     "grade": false,
     "grade_id": "q1a",
     "locked": false,
     "schema_version": 3,
     "solution": true,
     "task": false
    }
   },
   "outputs": [],
   "source": [
    "class HMM:\n",
    "    def add_symbols(self,symbols):\n",
    "        self.s2i = {symbol:i for i,symbol in enumerate(symbols)}\n",
    "        self.i2s = {i:symbol for i,symbol in enumerate(symbols)}\n",
    "    def add_start(self,pi):\n",
    "        self.pi = pi\n",
    "    def add_emissions(self,em):\n",
    "        self.em = em\n",
    "    def add_transitions(self,tm):\n",
    "        self.tm = tm\n",
    "    def check(self):\n",
    "        '''checks that the data structures are present\n",
    "        and all correct in terms of shapes and values\n",
    "        \n",
    "        returns:\n",
    "            boolean: true if all tests pass\n",
    "        '''\n",
    "        # YOUR CODE HERE\n",
    "        raise NotImplementedError()"
   ]
  },
  {
   "cell_type": "code",
   "execution_count": null,
   "id": "52bf5295",
   "metadata": {
    "deletable": false,
    "editable": false,
    "nbgrader": {
     "cell_type": "code",
     "checksum": "47a7efd0ab2e3653d215bf8e63755642",
     "grade": true,
     "grade_id": "q1t1",
     "locked": true,
     "points": 1,
     "schema_version": 3,
     "solution": false,
     "task": false
    }
   },
   "outputs": [],
   "source": [
    "hmm1 = HMM()\n",
    "hmm1.add_symbols('abc')\n",
    "assert not hmm1.check()"
   ]
  },
  {
   "cell_type": "code",
   "execution_count": null,
   "id": "010bfff7",
   "metadata": {
    "deletable": false,
    "editable": false,
    "nbgrader": {
     "cell_type": "code",
     "checksum": "f51e21a9cd3bdfc590fb11781e89a370",
     "grade": true,
     "grade_id": "q1t2",
     "locked": true,
     "points": 1,
     "schema_version": 3,
     "solution": false,
     "task": false
    }
   },
   "outputs": [],
   "source": [
    "hmm2 = HMM()\n",
    "hmm2.add_symbols('abc')\n",
    "hmm2.add_start(np.array([.6,.4]))\n",
    "hmm2.add_emissions(np.array([\n",
    "    [.3,.1,.6],\n",
    "    [.2,.5,.3]\n",
    "]))\n",
    "hmm2.add_transitions(np.array([\n",
    "    [.2,.8],\n",
    "    [.6,.4]\n",
    "]))\n",
    "assert hmm2.check()"
   ]
  },
  {
   "cell_type": "code",
   "execution_count": null,
   "id": "fd8510e9",
   "metadata": {
    "deletable": false,
    "editable": false,
    "nbgrader": {
     "cell_type": "code",
     "checksum": "92806dec32cce6dd84bcbb95dacbacc1",
     "grade": true,
     "grade_id": "q1t3",
     "locked": true,
     "points": 1,
     "schema_version": 3,
     "solution": false,
     "task": false
    }
   },
   "outputs": [],
   "source": [
    "hmm3 = HMM()\n",
    "hmm3.add_symbols('abc')\n",
    "hmm3.add_start(np.array([.2,.8]))\n",
    "hmm3.add_emissions(np.array([\n",
    "    [.3,.1,.6],\n",
    "    [.2,.5,.3]\n",
    "]))\n",
    "hmm3.add_transitions(np.array([\n",
    "    [.1,.1,.8],\n",
    "    [.3,.3,.4],\n",
    "    [.7,.2,.1]\n",
    "]))\n",
    "assert not hmm3.check()"
   ]
  },
  {
   "cell_type": "code",
   "execution_count": null,
   "id": "d82ae476",
   "metadata": {
    "deletable": false,
    "editable": false,
    "nbgrader": {
     "cell_type": "code",
     "checksum": "aa067d45d1bebc29696cc9f5a798ea9a",
     "grade": true,
     "grade_id": "q1t4",
     "locked": true,
     "points": 1,
     "schema_version": 3,
     "solution": false,
     "task": false
    }
   },
   "outputs": [],
   "source": [
    "hmm4 = HMM()\n",
    "hmm4.add_symbols('abc')\n",
    "hmm4.add_start(np.array([.2,.8]))\n",
    "hmm4.add_emissions(np.array([\n",
    "    [.3,.1,.6],\n",
    "    [.2,.5,.3]\n",
    "]))\n",
    "hmm4.add_transitions(np.array([\n",
    "    [.1,.8],\n",
    "    [.7,.3]\n",
    "]))\n",
    "assert not hmm4.check()"
   ]
  },
  {
   "cell_type": "markdown",
   "id": "ccfd5ec0",
   "metadata": {
    "deletable": false,
    "editable": false,
    "nbgrader": {
     "cell_type": "markdown",
     "checksum": "9b80dea75ff1ad54875621f54ca1d7e0",
     "grade": false,
     "grade_id": "q2text",
     "locked": true,
     "schema_version": 3,
     "solution": false,
     "task": false
    }
   },
   "source": [
    "2. Let's now improve the implementation by adding a method to calculate forward probabilities. We'll do this by inheriting from the original implementation above."
   ]
  },
  {
   "cell_type": "code",
   "execution_count": null,
   "id": "dc739678",
   "metadata": {
    "deletable": false,
    "nbgrader": {
     "cell_type": "code",
     "checksum": "5a28e157982a7cadb01f10c069195ae5",
     "grade": false,
     "grade_id": "q2a",
     "locked": false,
     "schema_version": 3,
     "solution": true,
     "task": false
    }
   },
   "outputs": [],
   "source": [
    "class HMMbetter(HMM):\n",
    "    def forward(self,s):\n",
    "        '''calculate forward probabilities\n",
    "        \n",
    "        args:\n",
    "            s: a string\n",
    "        returns:\n",
    "            the probability of the string\n",
    "            the forward probability grid\n",
    "        '''\n",
    "        # YOUR CODE HERE\n",
    "        raise NotImplementedError()"
   ]
  },
  {
   "cell_type": "code",
   "execution_count": null,
   "id": "57093484",
   "metadata": {
    "deletable": false,
    "editable": false,
    "nbgrader": {
     "cell_type": "code",
     "checksum": "fdda55300e69523bb69022d17e24df97",
     "grade": true,
     "grade_id": "q2t1",
     "locked": true,
     "points": 1,
     "schema_version": 3,
     "solution": false,
     "task": false
    }
   },
   "outputs": [],
   "source": [
    "hmm5 = HMMbetter()\n",
    "hmm5.add_symbols('abc')\n",
    "hmm5.add_start(np.array([.2,.8]))\n",
    "hmm5.add_emissions(np.array([\n",
    "    [.3,.1,.6],\n",
    "    [.2,.5,.3]\n",
    "]))\n",
    "hmm5.add_transitions(np.array([\n",
    "    [.8,.2],\n",
    "    [.7,.3]\n",
    "]))\n",
    "p,g = hmm5.forward('acc')\n",
    "assert np.isclose(p,.061,atol=.001)"
   ]
  },
  {
   "cell_type": "code",
   "execution_count": null,
   "id": "1956f864",
   "metadata": {
    "deletable": false,
    "editable": false,
    "nbgrader": {
     "cell_type": "code",
     "checksum": "4b4ed967e586d0bd65da041b988b3950",
     "grade": true,
     "grade_id": "q2t2",
     "locked": true,
     "points": 1,
     "schema_version": 3,
     "solution": false,
     "task": false
    }
   },
   "outputs": [],
   "source": [
    "assert g.shape == (2,4)"
   ]
  },
  {
   "cell_type": "code",
   "execution_count": null,
   "id": "3071dcc9",
   "metadata": {
    "deletable": false,
    "editable": false,
    "nbgrader": {
     "cell_type": "code",
     "checksum": "ddcbe32d4734fb780676e5678995b995",
     "grade": true,
     "grade_id": "q2t3",
     "locked": true,
     "points": 1,
     "schema_version": 3,
     "solution": false,
     "task": false
    }
   },
   "outputs": [],
   "source": [
    "assert np.isclose(g,[\n",
    "    [.2,.06,.096,.05364],\n",
    "    [.8,.16,.018,.00738]\n",
    "],atol=.001).all()"
   ]
  },
  {
   "cell_type": "markdown",
   "id": "bd3190be",
   "metadata": {
    "deletable": false,
    "editable": false,
    "nbgrader": {
     "cell_type": "markdown",
     "checksum": "cafbbc3d6b64053ced9696a390210218",
     "grade": false,
     "grade_id": "q3text",
     "locked": true,
     "schema_version": 3,
     "solution": false,
     "task": false
    }
   },
   "source": [
    "3. Finally, let's implement the Viterbi algorithm. The method should return four things:\n",
    "    1. the most likely state sequence\n",
    "    1. the probability of that sequence\n",
    "    1. the grid with probability values\n",
    "    1. a separate grid with previous state\n",
    "\n",
    "  You should be able to reuse/retask a lot of code from the previous question.\n",
    "  \n",
    "  (Note the orientation and shape of the various matrices in the tests below; these may differ from what you expect.)"
   ]
  },
  {
   "cell_type": "code",
   "execution_count": null,
   "id": "3be36e1d",
   "metadata": {
    "deletable": false,
    "nbgrader": {
     "cell_type": "code",
     "checksum": "d8d30cf83d4bdcf69a3b5cc4f25b3a6f",
     "grade": false,
     "grade_id": "q3a",
     "locked": false,
     "schema_version": 3,
     "solution": true,
     "task": false
    }
   },
   "outputs": [],
   "source": [
    "class HMMbest(HMMbetter):\n",
    "    def viterbi(self,s):\n",
    "        '''viterbi algorithm\n",
    "        args:\n",
    "            s: a string\n",
    "        returns:\n",
    "            the most likely path (as a list of ints)\n",
    "            probability of that path\n",
    "            accumulated probability matrix\n",
    "            accumulated path matrix\n",
    "        '''\n",
    "        # YOUR CODE HERE\n",
    "        raise NotImplementedError()"
   ]
  },
  {
   "cell_type": "code",
   "execution_count": null,
   "id": "96930e31",
   "metadata": {
    "deletable": false,
    "editable": false,
    "nbgrader": {
     "cell_type": "code",
     "checksum": "3426eb0e458489fa52bf9f2077b70fb4",
     "grade": true,
     "grade_id": "q3t1",
     "locked": true,
     "points": 1,
     "schema_version": 3,
     "solution": false,
     "task": false
    }
   },
   "outputs": [],
   "source": [
    "hmm6 = HMMbest()\n",
    "hmm6.add_symbols('abc')\n",
    "hmm6.add_start(np.array([.2,.8]))\n",
    "hmm6.add_emissions(np.array([\n",
    "    [.3,.1,.6],\n",
    "    [.2,.5,.3]\n",
    "]))\n",
    "hmm6.add_transitions(np.array([\n",
    "    [.8,.2],\n",
    "    [.7,.3]\n",
    "]))\n",
    "path,prob,probs,paths = hmm6.viterbi('acc')\n",
    "assert path == [0,0,1]"
   ]
  },
  {
   "cell_type": "code",
   "execution_count": null,
   "id": "2ede5cb8",
   "metadata": {
    "deletable": false,
    "editable": false,
    "nbgrader": {
     "cell_type": "code",
     "checksum": "0b3b1285484be957ff94a5fc87951df6",
     "grade": true,
     "grade_id": "q3t2",
     "locked": true,
     "points": 1,
     "schema_version": 3,
     "solution": false,
     "task": false
    }
   },
   "outputs": [],
   "source": [
    "assert np.isclose(prob,.03225,atol=0.001)"
   ]
  },
  {
   "cell_type": "code",
   "execution_count": null,
   "id": "66ed8176",
   "metadata": {
    "deletable": false,
    "editable": false,
    "nbgrader": {
     "cell_type": "code",
     "checksum": "1a4c60072f60c3062d472ea8d2ac0d4c",
     "grade": true,
     "grade_id": "q3t3",
     "locked": true,
     "points": 1,
     "schema_version": 3,
     "solution": false,
     "task": false
    }
   },
   "outputs": [],
   "source": [
    "assert probs.shape == (2,4)"
   ]
  },
  {
   "cell_type": "code",
   "execution_count": null,
   "id": "75f41292",
   "metadata": {
    "deletable": false,
    "editable": false,
    "nbgrader": {
     "cell_type": "code",
     "checksum": "a29b844be9931f852fd43289b5f8c879",
     "grade": true,
     "grade_id": "a3t4",
     "locked": true,
     "points": 1,
     "schema_version": 3,
     "solution": false,
     "task": false
    }
   },
   "outputs": [],
   "source": [
    "assert np.isclose(probs,np.array([\n",
    "    [0.2,0.06,0.0672,0.032256],\n",
    "    [0.8,0.16,0.0144,0.004032]\n",
    "]),atol=.01).all()"
   ]
  },
  {
   "cell_type": "code",
   "execution_count": null,
   "id": "35215d9d",
   "metadata": {
    "deletable": false,
    "editable": false,
    "nbgrader": {
     "cell_type": "code",
     "checksum": "c7d3aa59ae7f65389b7824c023df1f5e",
     "grade": true,
     "grade_id": "q3t4",
     "locked": true,
     "points": 1,
     "schema_version": 3,
     "solution": false,
     "task": false
    }
   },
   "outputs": [],
   "source": [
    "assert paths.shape == (2,2)"
   ]
  }
 ],
 "metadata": {
  "kernelspec": {
   "display_name": "Python 3 (ipykernel)",
   "language": "python",
   "name": "python3"
  },
  "language_info": {
   "codemirror_mode": {
    "name": "ipython",
    "version": 3
   },
   "file_extension": ".py",
   "mimetype": "text/x-python",
   "name": "python",
   "nbconvert_exporter": "python",
   "pygments_lexer": "ipython3",
   "version": "3.8.10"
  }
 },
 "nbformat": 4,
 "nbformat_minor": 5
}
