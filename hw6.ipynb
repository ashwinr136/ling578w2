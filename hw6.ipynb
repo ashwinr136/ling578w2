{
 "cells": [
  {
   "cell_type": "markdown",
   "id": "6dad1b15",
   "metadata": {
    "deletable": false,
    "editable": false,
    "nbgrader": {
     "cell_type": "markdown",
     "checksum": "6f990522a7e22b998f03e9e0693704bc",
     "grade": false,
     "grade_id": "header",
     "locked": true,
     "schema_version": 3,
     "solution": false,
     "task": false
    }
   },
   "source": [
    "<img src='https://hammondm.github.io/hltlogo1.png' style=\"float:right\">\n",
    "\n",
    "Linguistics 578<br>\n",
    "Fall 2023<br>\n",
    "Hammond\n",
    "\n",
    "## Things to remember about any homework assignment:\n",
    "\n",
    "1. For this assignment, you will edit this jupyter notebook and turn it in. Do not turn in pdf files or separate `.py` files.\n",
    "1. Late work is not accepted.\n",
    "1. Given the way I grade, you should try to answer *every* question, even if you don't like your answer or have to guess.\n",
    "1. You may *not* use `python` modules that we have not already used in class.\n",
    "1. You may certainly talk to your classmates about the assignment, but everybody must turn in *their own* work. It is not acceptable to turn in work that is essentially the same as the work of classmates.\n",
    "1. All code must run. It doesn't have to be perfect, it may not do all that you want it to do, but it must run without error.\n",
    "1. Code must run in reasonable time. Assume that if it takes more than *5 minutes* to run (on your machine), that's too long.\n",
    "1. Please do not add, remove, or copy autograded cells.\n",
    "1. Make sure to select `restart, run all cells` from the `kernel` menu when you're done and before you turn this in!"
   ]
  },
  {
   "cell_type": "markdown",
   "id": "3df85d46",
   "metadata": {},
   "source": [
    "***\n",
    "\n",
    "***my name***: [put your name here]\n",
    "\n",
    "***people I talked to about the assignment***: [put your answer here]\n",
    "\n",
    "***"
   ]
  },
  {
   "cell_type": "markdown",
   "id": "c36846fc",
   "metadata": {
    "deletable": false,
    "editable": false,
    "nbgrader": {
     "cell_type": "markdown",
     "checksum": "53e0d8d8fd042508ddb3db221e774d32",
     "grade": false,
     "grade_id": "intro",
     "locked": true,
     "schema_version": 3,
     "solution": false,
     "task": false
    }
   },
   "source": [
    "## Homework #6\n",
    "\n",
    "Here are the imports. Please do not import anything else."
   ]
  },
  {
   "cell_type": "code",
   "execution_count": null,
   "id": "5fee7256",
   "metadata": {
    "deletable": false,
    "editable": false,
    "nbgrader": {
     "cell_type": "code",
     "checksum": "d54f67ec525a7a96c2b675d7f3bbe50c",
     "grade": false,
     "grade_id": "imports",
     "locked": true,
     "schema_version": 3,
     "solution": false,
     "task": false
    }
   },
   "outputs": [],
   "source": [
    "import os,re\n",
    "import numpy as np\n",
    "from scipy.io import wavfile\n",
    "import matplotlib.pyplot as plt\n",
    "from IPython.display import Audio"
   ]
  },
  {
   "cell_type": "markdown",
   "id": "8f5b779a",
   "metadata": {
    "deletable": false,
    "editable": false,
    "nbgrader": {
     "cell_type": "markdown",
     "checksum": "f6f6471236a926d8f03d66e2c70b757e",
     "grade": false,
     "grade_id": "q1text",
     "locked": true,
     "schema_version": 3,
     "solution": false,
     "task": false
    }
   },
   "source": [
    "1. We need to use the `kal` database, so here's a question that just lets you specify where it is and then checks that. (Please leave the first two comment lines in place and just add your own below.)"
   ]
  },
  {
   "cell_type": "code",
   "execution_count": null,
   "id": "882a110f",
   "metadata": {
    "deletable": false,
    "nbgrader": {
     "cell_type": "code",
     "checksum": "7e0ba8f1ec8bbaf3b6db81692d9120cf",
     "grade": false,
     "grade_id": "q1a",
     "locked": false,
     "schema_version": 3,
     "solution": true,
     "task": false
    }
   },
   "outputs": [],
   "source": [
    "#kal = '/mhdata/cmu_us_kal_diphone/'\n",
    "#kal = ?\n",
    "# YOUR CODE HERE\n",
    "raise NotImplementedError()"
   ]
  },
  {
   "cell_type": "code",
   "execution_count": null,
   "id": "08dfe3b8",
   "metadata": {
    "deletable": false,
    "editable": false,
    "nbgrader": {
     "cell_type": "code",
     "checksum": "9588708dc7b4a79b0f8d38dac9af6604",
     "grade": true,
     "grade_id": "q1t1",
     "locked": true,
     "points": 1,
     "schema_version": 3,
     "solution": false,
     "task": false
    }
   },
   "outputs": [],
   "source": [
    "assert len(os.listdir(kal)) == 20"
   ]
  },
  {
   "cell_type": "markdown",
   "id": "ce332b8f",
   "metadata": {
    "deletable": false,
    "editable": false,
    "nbgrader": {
     "cell_type": "markdown",
     "checksum": "fe28ecdbb29d358f37c0920f4887b594",
     "grade": false,
     "grade_id": "previous_code_text",
     "locked": true,
     "schema_version": 3,
     "solution": false,
     "task": false
    }
   },
   "source": [
    "We need these from this week's notebook. I've converted the code that creates the diphone database into a function. Make sure the run the cell below before going on."
   ]
  },
  {
   "cell_type": "code",
   "execution_count": null,
   "id": "5d6a6399",
   "metadata": {
    "deletable": false,
    "editable": false,
    "nbgrader": {
     "cell_type": "code",
     "checksum": "93abcd221b974919720da2d2697eac5b",
     "grade": false,
     "grade_id": "previous_code",
     "locked": true,
     "schema_version": 3,
     "solution": false,
     "task": false
    }
   },
   "outputs": [],
   "source": [
    "def getbit(start,end,filename,dirname=kal):\n",
    "    sr,w = wavfile.read(dirname+'wav/'+filename)\n",
    "    startidx = int(sr * start)\n",
    "    endidx = int(sr*end)\n",
    "    return w[startidx:endidx]\n",
    "\n",
    "def makeDiphones(where):\n",
    "    diphones = {}\n",
    "    for i in range(1,1350):\n",
    "        filename = str(i)\n",
    "        while len(filename) < 4: filename = '0' + filename\n",
    "        filename = 'kal_' + filename + '.lab'\n",
    "        f = open(kal+'lab/'+filename,'r')\n",
    "        t = f.read()\n",
    "        f.close()\n",
    "        t = re.sub(' 26 ','',t)\n",
    "        t = t.split('\\n')\n",
    "        t = t[3:-1]\n",
    "        fset = []\n",
    "        start = 0\n",
    "        for line in t:\n",
    "            bits = line.split('\\t')\n",
    "            bits = bits[1:]\n",
    "            fset.append((float(start),float(bits[0]),bits[1]))\n",
    "            start = bits[0]\n",
    "        i = 1\n",
    "        while i < len(fset):\n",
    "            diphone = fset[i-1][2] + '-' + fset[i][2]\n",
    "            start = (fset[i-1][1] - fset[i-1][0])/2 + fset[i-1][0]\n",
    "            end = (fset[i][1] - fset[i][0])/2 + fset[i][0]\n",
    "            filename = re.sub('\\.lab$','.wav',filename)\n",
    "            triple = (filename,start,end)\n",
    "            if diphone in diphones:\n",
    "                diphones[diphone].append(triple)\n",
    "            else:\n",
    "                diphones[diphone] = [triple]\n",
    "            i += 1\n",
    "    return diphones\n",
    "\n",
    "diphones = makeDiphones(kal)"
   ]
  },
  {
   "cell_type": "markdown",
   "id": "8219c77e",
   "metadata": {
    "deletable": false,
    "editable": false,
    "nbgrader": {
     "cell_type": "markdown",
     "checksum": "94b7b362cf3169c3fb0129c7eae90047",
     "grade": false,
     "grade_id": "q2text",
     "locked": true,
     "schema_version": 3,
     "solution": false,
     "task": false
    }
   },
   "source": [
    "2. For this question, you need to download and unzip the CMU pronouncing dictionary from [here](https://github.com/Alexir/CMUdict). (Again, do not remove the first two lines below; just add your own below.)"
   ]
  },
  {
   "cell_type": "code",
   "execution_count": null,
   "id": "c8f5a4b1",
   "metadata": {
    "deletable": false,
    "nbgrader": {
     "cell_type": "code",
     "checksum": "0ce328825215b147ce4633204970fa32",
     "grade": false,
     "grade_id": "q2a",
     "locked": false,
     "schema_version": 3,
     "solution": true,
     "task": false
    }
   },
   "outputs": [],
   "source": [
    "#cmufile = '/mhdata/CMUdict-master/cmudict-0.7b'\n",
    "#cmufile = ?\n",
    "# YOUR CODE HERE\n",
    "raise NotImplementedError()"
   ]
  },
  {
   "cell_type": "code",
   "execution_count": null,
   "id": "f6481645",
   "metadata": {
    "deletable": false,
    "editable": false,
    "nbgrader": {
     "cell_type": "code",
     "checksum": "02afaaad9f34ef418c0cbd93b523da62",
     "grade": true,
     "grade_id": "q2t1",
     "locked": true,
     "points": 1,
     "schema_version": 3,
     "solution": false,
     "task": false
    }
   },
   "outputs": [],
   "source": [
    "f = open(cmufile,'rb')\n",
    "t = f.read()\n",
    "f.close()\n",
    "cmudict = t.decode('ISO-8859-1')\n",
    "assert np.isclose(len(cmudict),3865710,atol=2)"
   ]
  },
  {
   "cell_type": "markdown",
   "id": "2d75c278",
   "metadata": {
    "deletable": false,
    "editable": false,
    "nbgrader": {
     "cell_type": "markdown",
     "checksum": "46b8c63b4295319d86c288dd76efe764",
     "grade": false,
     "grade_id": "q3text",
     "locked": true,
     "schema_version": 3,
     "solution": false,
     "task": false
    }
   },
   "source": [
    "3. Your task is to parse the `cmudict` variable into a dictionary from words to letter sequences. Be mindful of the following:\n",
    "  1. The file format is funky.\n",
    "  2. There may be errors and irregularities to recover from.\n",
    "  3. You have to remove the header lines and final empty line.\n",
    "  4. You have to convert to lower case.\n",
    "  5. You have to remove stress information.\n",
    "  6. You have to accommodate the fact that some words have multiple pronunciations."
   ]
  },
  {
   "cell_type": "code",
   "execution_count": null,
   "id": "64067435",
   "metadata": {
    "deletable": false,
    "nbgrader": {
     "cell_type": "code",
     "checksum": "a17aec3b49c11c7b78f4bcefc554331b",
     "grade": false,
     "grade_id": "q3a",
     "locked": false,
     "schema_version": 3,
     "solution": true,
     "task": false
    }
   },
   "outputs": [],
   "source": [
    "def makeDictionary(datafile):\n",
    "    '''map the cmudict text file to a dictionary\n",
    "    args:\n",
    "        datafile: the cmudict07b file as a list of lines\n",
    "    returns:\n",
    "        a dictionary from spellings to a list of lists of\n",
    "        characters.\n",
    "    '''\n",
    "    # YOUR CODE HERE\n",
    "    raise NotImplementedError()"
   ]
  },
  {
   "cell_type": "code",
   "execution_count": null,
   "id": "0e5be282",
   "metadata": {
    "deletable": false,
    "editable": false,
    "nbgrader": {
     "cell_type": "code",
     "checksum": "c4c9dae0b12a3e8882362aa89123c816",
     "grade": true,
     "grade_id": "q3t1",
     "locked": true,
     "points": 1,
     "schema_version": 3,
     "solution": false,
     "task": false
    }
   },
   "outputs": [],
   "source": [
    "d = makeDictionary(cmudict)\n",
    "assert len(d) == 125770"
   ]
  },
  {
   "cell_type": "code",
   "execution_count": null,
   "id": "196d6a07",
   "metadata": {
    "deletable": false,
    "editable": false,
    "nbgrader": {
     "cell_type": "code",
     "checksum": "4e6af38e9d75d9062050cca58da559ea",
     "grade": true,
     "grade_id": "q3t2",
     "locked": true,
     "points": 1,
     "schema_version": 3,
     "solution": false,
     "task": false
    }
   },
   "outputs": [],
   "source": [
    "assert d['tomato'] == [\n",
    "    ['t', 'ah', 'm', 'ey', 't', 'ow'],\n",
    "    ['t', 'ah', 'm', 'aa', 't', 'ow']\n",
    "]"
   ]
  },
  {
   "cell_type": "code",
   "execution_count": null,
   "id": "dea8109c",
   "metadata": {
    "deletable": false,
    "editable": false,
    "nbgrader": {
     "cell_type": "code",
     "checksum": "8a380fa3bd75888e53adb9dfa46c6bf6",
     "grade": true,
     "grade_id": "q3t3",
     "locked": true,
     "points": 1,
     "schema_version": 3,
     "solution": false,
     "task": false
    }
   },
   "outputs": [],
   "source": [
    "assert d[\"didn't\"] == [\n",
    "    ['d', 'ih', 'd', 'ah', 'n', 't'],\n",
    "    ['d', 'ih', 'd', 'n', 't'],\n",
    "    ['d', 'ih', 'd', 'ah', 'n'],\n",
    "    ['d', 'ih', 'n', 't']\n",
    "]"
   ]
  },
  {
   "cell_type": "markdown",
   "id": "4c4c7d44",
   "metadata": {
    "deletable": false,
    "editable": false,
    "nbgrader": {
     "cell_type": "markdown",
     "checksum": "9d022ca6858324a0fb6b63331aa11372",
     "grade": false,
     "grade_id": "q4text",
     "locked": true,
     "schema_version": 3,
     "solution": false,
     "task": false
    }
   },
   "source": [
    "4. Now write a function that takes a sentence, breaks it into words, looks up those words, converts the transcription to diphones, and returns a list of diphones. In this exercise, we'll keep word transitions simple and separate all words with `pau`. (If a word is not in the dictionary, the function should return *uh* in its stead.)"
   ]
  },
  {
   "cell_type": "code",
   "execution_count": null,
   "id": "fa1e06c8",
   "metadata": {
    "deletable": false,
    "nbgrader": {
     "cell_type": "code",
     "checksum": "22961ec99392590d69eef7e64cea6961",
     "grade": false,
     "grade_id": "q4a",
     "locked": false,
     "schema_version": 3,
     "solution": true,
     "task": false
    }
   },
   "outputs": [],
   "source": [
    "def sentence2diphones(s,c):\n",
    "    '''converts a sentence into a sequence of diphones\n",
    "    args:\n",
    "        s: a sentence as a string\n",
    "        c: cmu dictionary as a dictionary\n",
    "    returns:\n",
    "        a list of diphones with 'pau' at the beginning\n",
    "        and end, and between words\n",
    "    '''\n",
    "    # YOUR CODE HERE\n",
    "    raise NotImplementedError()"
   ]
  },
  {
   "cell_type": "code",
   "execution_count": null,
   "id": "2c533198",
   "metadata": {
    "deletable": false,
    "editable": false,
    "nbgrader": {
     "cell_type": "code",
     "checksum": "b019149cbd912bfba654ccaceddc5efd",
     "grade": true,
     "grade_id": "q4t1",
     "locked": true,
     "points": 1,
     "schema_version": 3,
     "solution": false,
     "task": false
    }
   },
   "outputs": [],
   "source": [
    "words = \"I'm feeling pretty optimistic right now.\"\n",
    "res = sentence2diphones(words,d)\n",
    "assert len(res) == 33"
   ]
  },
  {
   "cell_type": "code",
   "execution_count": null,
   "id": "6c61011f",
   "metadata": {
    "deletable": false,
    "editable": false,
    "nbgrader": {
     "cell_type": "code",
     "checksum": "e4fb91c48c2c1a3d134162204b6f19bf",
     "grade": true,
     "grade_id": "q4t2",
     "locked": true,
     "points": 1,
     "schema_version": 3,
     "solution": false,
     "task": false
    }
   },
   "outputs": [],
   "source": [
    "assert res == [\n",
    "    'pau-ay','ay-m','m-pau','pau-f','f-iy',\n",
    "    'iy-l','l-ih','ih-ng','ng-pau','pau-p',\n",
    "    'p-r','r-ih','ih-t','t-iy','iy-pau',\n",
    "    'pau-aa','aa-p','p-t','t-ih','ih-m',\n",
    "    'm-ih','ih-s','s-t','t-ih','ih-k',\n",
    "    'k-pau','pau-r','r-ay','ay-t','t-pau',\n",
    "    'pau-n','n-aw','aw-pau'\n",
    "]"
   ]
  },
  {
   "cell_type": "code",
   "execution_count": null,
   "id": "9a121323",
   "metadata": {
    "deletable": false,
    "editable": false,
    "nbgrader": {
     "cell_type": "code",
     "checksum": "93d278e23b9b80e29c17ac53aecfb4c9",
     "grade": true,
     "grade_id": "q4t3",
     "locked": true,
     "points": 1,
     "schema_version": 3,
     "solution": false,
     "task": false
    }
   },
   "outputs": [],
   "source": [
    "words = \"The bznork sings!\"\n",
    "res = sentence2diphones(words,d)\n",
    "assert res == [\n",
    "    'pau-dh','dh-ah','ah-pau','pau-ah','ah-pau',\n",
    "    'pau-s','s-ih','ih-ng','ng-z','z-pau'\n",
    "]"
   ]
  },
  {
   "cell_type": "markdown",
   "id": "c421c28a",
   "metadata": {
    "deletable": false,
    "editable": false,
    "nbgrader": {
     "cell_type": "markdown",
     "checksum": "dc587bf6a1f517a88a821fad391a9fbf",
     "grade": false,
     "grade_id": "q5text",
     "locked": true,
     "schema_version": 3,
     "solution": false,
     "task": false
    }
   },
   "source": [
    "5. Finally, let's write a function that takes a list of diphones and creates a wave file."
   ]
  },
  {
   "cell_type": "code",
   "execution_count": null,
   "id": "0de1a5a7",
   "metadata": {
    "deletable": false,
    "nbgrader": {
     "cell_type": "code",
     "checksum": "2ce7054f0dc72447710c9ff636a48e18",
     "grade": false,
     "grade_id": "q5a",
     "locked": false,
     "schema_version": 3,
     "solution": true,
     "task": false
    }
   },
   "outputs": [],
   "source": [
    "def makeWave(s,dps):\n",
    "    '''converts a sequence of diphones into a wave\n",
    "    args:\n",
    "        s: a sequence of diphones\n",
    "        dps: diphone database\n",
    "    returns:\n",
    "        a wave as a numpy array\n",
    "    '''\n",
    "    # YOUR CODE HERE\n",
    "    raise NotImplementedError()"
   ]
  },
  {
   "cell_type": "code",
   "execution_count": null,
   "id": "71cb40a5",
   "metadata": {
    "deletable": false,
    "editable": false,
    "nbgrader": {
     "cell_type": "code",
     "checksum": "5ccc3735db6f3fa4d2f7063fde249367",
     "grade": true,
     "grade_id": "q5t1",
     "locked": true,
     "points": 1,
     "schema_version": 3,
     "solution": false,
     "task": false
    }
   },
   "outputs": [],
   "source": [
    "s = \"I like pancakes.\"\n",
    "res = sentence2diphones(s,d)\n",
    "w = makeWave(res,diphones)\n",
    "assert type(w) == np.ndarray"
   ]
  },
  {
   "cell_type": "code",
   "execution_count": null,
   "id": "9d820fab",
   "metadata": {
    "deletable": false,
    "editable": false,
    "nbgrader": {
     "cell_type": "code",
     "checksum": "97a0aaa01882fb2469ba1043e92215c9",
     "grade": true,
     "grade_id": "q5t2",
     "locked": true,
     "points": 1,
     "schema_version": 3,
     "solution": false,
     "task": false
    }
   },
   "outputs": [],
   "source": [
    "assert np.isclose(len(w),58119,atol=50)"
   ]
  },
  {
   "cell_type": "markdown",
   "id": "b9d2ea8c",
   "metadata": {
    "deletable": false,
    "editable": false,
    "nbgrader": {
     "cell_type": "markdown",
     "checksum": "42040982f526eb8b5e39411c5c77c2ca",
     "grade": false,
     "grade_id": "final1",
     "locked": true,
     "schema_version": 3,
     "solution": false,
     "task": false
    }
   },
   "source": [
    "And now, just for fun, you can look at and listen to what you've made:"
   ]
  },
  {
   "cell_type": "code",
   "execution_count": null,
   "id": "8591b65c",
   "metadata": {
    "deletable": false,
    "editable": false,
    "nbgrader": {
     "cell_type": "code",
     "checksum": "10025ba8219cd01fea80b97280f5313e",
     "grade": false,
     "grade_id": "final2",
     "locked": true,
     "schema_version": 3,
     "solution": false,
     "task": false
    }
   },
   "outputs": [],
   "source": [
    "plt.plot(w)\n",
    "plt.show()"
   ]
  },
  {
   "cell_type": "code",
   "execution_count": null,
   "id": "d6b8783e",
   "metadata": {
    "deletable": false,
    "editable": false,
    "nbgrader": {
     "cell_type": "code",
     "checksum": "263a8315a4d43fb85487945fdb6fa068",
     "grade": false,
     "grade_id": "final3",
     "locked": true,
     "schema_version": 3,
     "solution": false,
     "task": false
    }
   },
   "outputs": [],
   "source": [
    "Audio(w,rate=16000)"
   ]
  }
 ],
 "metadata": {
  "kernelspec": {
   "display_name": "Python 3 (ipykernel)",
   "language": "python",
   "name": "python3"
  },
  "language_info": {
   "codemirror_mode": {
    "name": "ipython",
    "version": 3
   },
   "file_extension": ".py",
   "mimetype": "text/x-python",
   "name": "python",
   "nbconvert_exporter": "python",
   "pygments_lexer": "ipython3",
   "version": "3.8.10"
  }
 },
 "nbformat": 4,
 "nbformat_minor": 5
}
